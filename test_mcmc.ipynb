{
 "cells": [
  {
   "cell_type": "code",
   "execution_count": 1,
   "metadata": {},
   "outputs": [
    {
     "name": "stderr",
     "output_type": "stream",
     "text": [
      "/home/potato/Documents/projects/master/p21cm-venv/lib/python3.11/site-packages/py21cmfast/_cfg.py:58: UserWarning: Your configuration file is out of date. Updating...\n",
      "  warnings.warn(\n",
      "/home/potato/Documents/projects/master/p21cm-venv/lib/python3.11/site-packages/py21cmfast/_cfg.py:42: UserWarning: Your configuration file is out of date. Updating...\n",
      "  warnings.warn(\"Your configuration file is out of date. Updating...\")\n"
     ]
    }
   ],
   "source": [
    "from Flower import *"
   ]
  },
  {
   "cell_type": "code",
   "execution_count": 2,
   "metadata": {},
   "outputs": [
    {
     "ename": "KeyboardInterrupt",
     "evalue": "",
     "output_type": "error",
     "traceback": [
      "\u001b[0;31m---------------------------------------------------------------------------\u001b[0m",
      "\u001b[0;31mKeyboardInterrupt\u001b[0m                         Traceback (most recent call last)",
      "Cell \u001b[0;32mIn[2], line 36\u001b[0m\n\u001b[1;32m     12\u001b[0m fiducial_parameter \u001b[38;5;241m=\u001b[39m {\n\u001b[1;32m     13\u001b[0m     \u001b[38;5;124m\"\u001b[39m\u001b[38;5;124muser_params\u001b[39m\u001b[38;5;124m\"\u001b[39m: {\n\u001b[1;32m     14\u001b[0m         \u001b[38;5;124m\"\u001b[39m\u001b[38;5;124mHII_DIM\u001b[39m\u001b[38;5;124m\"\u001b[39m: \u001b[38;5;241m40\u001b[39m,\n\u001b[0;32m   (...)\u001b[0m\n\u001b[1;32m     30\u001b[0m     \u001b[38;5;124m\"\u001b[39m\u001b[38;5;124mmake_statistics\u001b[39m\u001b[38;5;124m\"\u001b[39m: \u001b[38;5;28;01mFalse\u001b[39;00m,\n\u001b[1;32m     31\u001b[0m }\n\u001b[1;32m     33\u001b[0m probability \u001b[38;5;241m=\u001b[39m Probability(prior_ranges\u001b[38;5;241m=\u001b[39mprior_ranges, z_chunks\u001b[38;5;241m=\u001b[39m\u001b[38;5;241m20\u001b[39m, bins\u001b[38;5;241m=\u001b[39m\u001b[38;5;241m15\u001b[39m, debug\u001b[38;5;241m=\u001b[39m\u001b[38;5;28;01mTrue\u001b[39;00m, \n\u001b[1;32m     34\u001b[0m                           fmodel_path\u001b[38;5;241m=\u001b[39m\u001b[38;5;124m\"\u001b[39m\u001b[38;5;124m./emcee_data/fiducial_ps.npy\u001b[39m\u001b[38;5;124m\"\u001b[39m)\n\u001b[0;32m---> 36\u001b[0m emcee \u001b[38;5;241m=\u001b[39m \u001b[43mFlower\u001b[49m\u001b[43m(\u001b[49m\u001b[43mProbability\u001b[49m\u001b[38;5;241;43m=\u001b[39;49m\u001b[43mprobability\u001b[49m\u001b[43m,\u001b[49m\u001b[43m \u001b[49m\u001b[43mredshift\u001b[49m\u001b[38;5;241;43m=\u001b[39;49m\u001b[38;5;241;43m5\u001b[39;49m\u001b[43m,\u001b[49m\u001b[43m \u001b[49m\u001b[43mdata_path\u001b[49m\u001b[38;5;241;43m=\u001b[39;49m\u001b[38;5;124;43m\"\u001b[39;49m\u001b[38;5;124;43m./emcee_data/\u001b[39;49m\u001b[38;5;124;43m\"\u001b[39;49m\u001b[43m,\u001b[49m\u001b[43m \u001b[49m\u001b[43mnoise_type\u001b[49m\u001b[38;5;241;43m=\u001b[39;49m\u001b[38;5;28;43;01mNone\u001b[39;49;00m\u001b[43m,\u001b[49m\n\u001b[1;32m     37\u001b[0m \u001b[43m                       \u001b[49m\u001b[43mregenerate_fiducial\u001b[49m\u001b[38;5;241;43m=\u001b[39;49m\u001b[38;5;28;43;01mTrue\u001b[39;49;00m\u001b[43m,\u001b[49m\u001b[43m \u001b[49m\u001b[43mfid_params\u001b[49m\u001b[38;5;241;43m=\u001b[39;49m\u001b[43mfiducial_parameter\u001b[49m\u001b[43m,\u001b[49m\u001b[43m \u001b[49m\u001b[43mdebug\u001b[49m\u001b[38;5;241;43m=\u001b[39;49m\u001b[38;5;28;43;01mFalse\u001b[39;49;00m\u001b[43m)\u001b[49m\n\u001b[1;32m     40\u001b[0m emcee\u001b[38;5;241m.\u001b[39mrun_emcee(threads\u001b[38;5;241m=\u001b[39m\u001b[38;5;241m12\u001b[39m, nsteps\u001b[38;5;241m=\u001b[39m\u001b[38;5;241m240\u001b[39m, walkers\u001b[38;5;241m=\u001b[39m\u001b[38;5;241m24\u001b[39m)\n",
      "File \u001b[0;32m~/Documents/projects/master/21cm-wrapper/Flower.py:489\u001b[0m, in \u001b[0;36mFlower.__init__\u001b[0;34m(self, Probability, data_path, noise_type, debug, regenerate_fiducial, redshift, fid_params)\u001b[0m\n\u001b[1;32m    467\u001b[0m \u001b[38;5;28;01mdef\u001b[39;00m \u001b[38;5;21m__init__\u001b[39m(\n\u001b[1;32m    468\u001b[0m     \u001b[38;5;28mself\u001b[39m,\n\u001b[1;32m    469\u001b[0m     Probability: Probability,\n\u001b[0;32m   (...)\u001b[0m\n\u001b[1;32m    475\u001b[0m     fid_params: \u001b[38;5;28mdict\u001b[39m \u001b[38;5;241m=\u001b[39m {},\n\u001b[1;32m    476\u001b[0m ):\n\u001b[1;32m    477\u001b[0m \u001b[38;5;250m    \u001b[39m\u001b[38;5;124;03m\"\"\"\u001b[39;00m\n\u001b[1;32m    478\u001b[0m \u001b[38;5;124;03m    A class representing a flower simulation.\u001b[39;00m\n\u001b[1;32m    479\u001b[0m \n\u001b[0;32m   (...)\u001b[0m\n\u001b[1;32m    487\u001b[0m \u001b[38;5;124;03m        fid_params (dict, optional): Additional fiducial parameters. Defaults to {}.\u001b[39;00m\n\u001b[1;32m    488\u001b[0m \u001b[38;5;124;03m    \"\"\"\u001b[39;00m\n\u001b[0;32m--> 489\u001b[0m     \u001b[38;5;28;43msuper\u001b[39;49m\u001b[43m(\u001b[49m\u001b[43m)\u001b[49m\u001b[38;5;241;43m.\u001b[39;49m\u001b[38;5;21;43m__init__\u001b[39;49m\u001b[43m(\u001b[49m\n\u001b[1;32m    490\u001b[0m \u001b[43m        \u001b[49m\u001b[43mProbability\u001b[49m\u001b[38;5;241;43m=\u001b[39;49m\u001b[43mProbability\u001b[49m\u001b[43m,\u001b[49m\n\u001b[1;32m    491\u001b[0m \u001b[43m        \u001b[49m\u001b[43mredshift\u001b[49m\u001b[38;5;241;43m=\u001b[39;49m\u001b[43mredshift\u001b[49m\u001b[43m,\u001b[49m\n\u001b[1;32m    492\u001b[0m \u001b[43m        \u001b[49m\u001b[43mdata_path\u001b[49m\u001b[38;5;241;43m=\u001b[39;49m\u001b[43mdata_path\u001b[49m\u001b[43m,\u001b[49m\n\u001b[1;32m    493\u001b[0m \u001b[43m        \u001b[49m\u001b[43mnoise_type\u001b[49m\u001b[38;5;241;43m=\u001b[39;49m\u001b[43mnoise_type\u001b[49m\u001b[43m,\u001b[49m\n\u001b[1;32m    494\u001b[0m \u001b[43m        \u001b[49m\u001b[43mdebug\u001b[49m\u001b[38;5;241;43m=\u001b[39;49m\u001b[43mdebug\u001b[49m\u001b[43m,\u001b[49m\n\u001b[1;32m    495\u001b[0m \u001b[43m        \u001b[49m\u001b[43mregenerate_fiducial\u001b[49m\u001b[38;5;241;43m=\u001b[39;49m\u001b[43mregenerate_fiducial\u001b[49m\u001b[43m,\u001b[49m\n\u001b[1;32m    496\u001b[0m \u001b[43m        \u001b[49m\u001b[38;5;241;43m*\u001b[39;49m\u001b[38;5;241;43m*\u001b[39;49m\u001b[43mfid_params\u001b[49m\u001b[43m,\u001b[49m\n\u001b[1;32m    497\u001b[0m \u001b[43m    \u001b[49m\u001b[43m)\u001b[49m\n\u001b[1;32m    498\u001b[0m     \u001b[38;5;28mself\u001b[39m\u001b[38;5;241m.\u001b[39mProb \u001b[38;5;241m=\u001b[39m Probability\n",
      "File \u001b[0;32m~/Documents/projects/master/21cm-wrapper/Flower.py:329\u001b[0m, in \u001b[0;36mSimulation.__init__\u001b[0;34m(self, Probability, redshift, data_path, noise_type, debug, regenerate_fiducial, **fid_params)\u001b[0m\n\u001b[1;32m    325\u001b[0m temp_threads \u001b[38;5;241m=\u001b[39m \u001b[38;5;28mself\u001b[39m\u001b[38;5;241m.\u001b[39muserparams\u001b[38;5;241m.\u001b[39mN_THREADS\n\u001b[1;32m    326\u001b[0m \u001b[38;5;28mself\u001b[39m\u001b[38;5;241m.\u001b[39muserparams\u001b[38;5;241m.\u001b[39mupdate(\n\u001b[1;32m    327\u001b[0m     N_THREADS\u001b[38;5;241m=\u001b[39mos\u001b[38;5;241m.\u001b[39mcpu_count() \u001b[38;5;28;01mif\u001b[39;00m os\u001b[38;5;241m.\u001b[39mcpu_count() \u001b[38;5;241m<\u001b[39m \u001b[38;5;241m33\u001b[39m \u001b[38;5;28;01melse\u001b[39;00m \u001b[38;5;241m32\u001b[39m\n\u001b[1;32m    328\u001b[0m )\n\u001b[0;32m--> 329\u001b[0m fiducial_cone \u001b[38;5;241m=\u001b[39m \u001b[38;5;28;43mself\u001b[39;49m\u001b[38;5;241;43m.\u001b[39;49m\u001b[43mrun_lightcone\u001b[49m\u001b[43m(\u001b[49m\n\u001b[1;32m    330\u001b[0m \u001b[43m    \u001b[49m\u001b[43mredshift\u001b[49m\u001b[38;5;241;43m=\u001b[39;49m\u001b[43mredshift\u001b[49m\u001b[43m,\u001b[49m\n\u001b[1;32m    331\u001b[0m \u001b[43m    \u001b[49m\u001b[43msave\u001b[49m\u001b[38;5;241;43m=\u001b[39;49m\u001b[38;5;28;43;01mFalse\u001b[39;49;00m\u001b[43m,\u001b[49m\n\u001b[1;32m    332\u001b[0m \u001b[43m    \u001b[49m\u001b[38;5;66;43;03m# fixed see because fiducial lightcones should look the same\u001b[39;49;00m\n\u001b[1;32m    333\u001b[0m \u001b[43m    \u001b[49m\u001b[43mrandom_seed\u001b[49m\u001b[38;5;241;43m=\u001b[39;49m\u001b[38;5;241;43m42\u001b[39;49m\u001b[43m,\u001b[49m\n\u001b[1;32m    334\u001b[0m \u001b[43m    \u001b[49m\u001b[43mfilter_peculiar\u001b[49m\u001b[38;5;241;43m=\u001b[39;49m\u001b[38;5;28;43;01mFalse\u001b[39;49;00m\u001b[43m,\u001b[49m\n\u001b[1;32m    335\u001b[0m \u001b[43m    \u001b[49m\u001b[43msanity_check\u001b[49m\u001b[38;5;241;43m=\u001b[39;49m\u001b[38;5;28;43;01mTrue\u001b[39;49;00m\u001b[43m,\u001b[49m\n\u001b[1;32m    336\u001b[0m \u001b[43m\u001b[49m\u001b[43m)\u001b[49m\n\u001b[1;32m    337\u001b[0m \u001b[38;5;28mself\u001b[39m\u001b[38;5;241m.\u001b[39muserparams\u001b[38;5;241m.\u001b[39mupdate(N_THREADS\u001b[38;5;241m=\u001b[39mtemp_threads)\n\u001b[1;32m    338\u001b[0m \u001b[38;5;28mself\u001b[39m\u001b[38;5;241m.\u001b[39msave(\n\u001b[1;32m    339\u001b[0m     obj\u001b[38;5;241m=\u001b[39mfiducial_cone, fname\u001b[38;5;241m=\u001b[39m\u001b[38;5;124m\"\u001b[39m\u001b[38;5;124mfiducial_cone\u001b[39m\u001b[38;5;124m\"\u001b[39m, direc\u001b[38;5;241m=\u001b[39mdata_path, run_id\u001b[38;5;241m=\u001b[39m\u001b[38;5;124m\"\u001b[39m\u001b[38;5;124m\"\u001b[39m\n\u001b[1;32m    340\u001b[0m )\n",
      "File \u001b[0;32m~/Documents/projects/master/21cm-wrapper/Leaf.py:255\u001b[0m, in \u001b[0;36mLeaf.run_lightcone\u001b[0;34m(self, redshift, save, random_seed, sanity_check, filter_peculiar, astro_params, cosmo_params, user_params, flag_options, global_params, fields, run_id)\u001b[0m\n\u001b[1;32m    237\u001b[0m \u001b[38;5;28mself\u001b[39m\u001b[38;5;241m.\u001b[39mdebug(\n\u001b[1;32m    238\u001b[0m     \u001b[38;5;124m\"\u001b[39m\u001b[38;5;124mCurrent parameters are:\u001b[39m\u001b[38;5;130;01m\\n\u001b[39;00m\u001b[38;5;124m\"\u001b[39m\n\u001b[1;32m    239\u001b[0m     \u001b[38;5;241m+\u001b[39m \u001b[38;5;124m\"\u001b[39m\u001b[38;5;124mastro_params: \u001b[39m\u001b[38;5;124m\"\u001b[39m\n\u001b[0;32m   (...)\u001b[0m\n\u001b[1;32m    252\u001b[0m     \u001b[38;5;241m+\u001b[39m \u001b[38;5;28mstr\u001b[39m(global_params)\n\u001b[1;32m    253\u001b[0m )\n\u001b[1;32m    254\u001b[0m \u001b[38;5;28;01mwith\u001b[39;00m p21c\u001b[38;5;241m.\u001b[39mglobal_params\u001b[38;5;241m.\u001b[39muse(\u001b[38;5;241m*\u001b[39m\u001b[38;5;241m*\u001b[39mglobal_params):\n\u001b[0;32m--> 255\u001b[0m     run \u001b[38;5;241m=\u001b[39m \u001b[43mp21c\u001b[49m\u001b[38;5;241;43m.\u001b[39;49m\u001b[43mrun_lightcone\u001b[49m\u001b[43m(\u001b[49m\n\u001b[1;32m    256\u001b[0m \u001b[43m        \u001b[49m\u001b[43mredshift\u001b[49m\u001b[38;5;241;43m=\u001b[39;49m\u001b[43mredshift\u001b[49m\u001b[43m,\u001b[49m\n\u001b[1;32m    257\u001b[0m \u001b[43m        \u001b[49m\u001b[43mastro_params\u001b[49m\u001b[38;5;241;43m=\u001b[39;49m\u001b[38;5;28;43mself\u001b[39;49m\u001b[38;5;241;43m.\u001b[39;49m\u001b[43mastroparams\u001b[49m\u001b[43m,\u001b[49m\n\u001b[1;32m    258\u001b[0m \u001b[43m        \u001b[49m\u001b[43mcosmo_params\u001b[49m\u001b[38;5;241;43m=\u001b[39;49m\u001b[38;5;28;43mself\u001b[39;49m\u001b[38;5;241;43m.\u001b[39;49m\u001b[43mcosmoparams\u001b[49m\u001b[43m,\u001b[49m\n\u001b[1;32m    259\u001b[0m \u001b[43m        \u001b[49m\u001b[43muser_params\u001b[49m\u001b[38;5;241;43m=\u001b[39;49m\u001b[38;5;28;43mself\u001b[39;49m\u001b[38;5;241;43m.\u001b[39;49m\u001b[43muserparams\u001b[49m\u001b[43m,\u001b[49m\n\u001b[1;32m    260\u001b[0m \u001b[43m        \u001b[49m\u001b[43mflag_options\u001b[49m\u001b[38;5;241;43m=\u001b[39;49m\u001b[38;5;28;43mself\u001b[39;49m\u001b[38;5;241;43m.\u001b[39;49m\u001b[43mflagparams\u001b[49m\u001b[43m,\u001b[49m\n\u001b[1;32m    261\u001b[0m \u001b[43m        \u001b[49m\u001b[43mrandom_seed\u001b[49m\u001b[38;5;241;43m=\u001b[39;49m\u001b[43mrandom_seed\u001b[49m\u001b[43m,\u001b[49m\n\u001b[1;32m    262\u001b[0m \u001b[43m        \u001b[49m\u001b[43mwrite\u001b[49m\u001b[38;5;241;43m=\u001b[39;49m\u001b[38;5;28;43mself\u001b[39;49m\u001b[38;5;241;43m.\u001b[39;49m\u001b[43mwrite_cache\u001b[49m\u001b[43m,\u001b[49m\n\u001b[1;32m    263\u001b[0m \u001b[43m        \u001b[49m\u001b[43mlightcone_quantities\u001b[49m\u001b[38;5;241;43m=\u001b[39;49m\u001b[43mfields\u001b[49m\u001b[43m,\u001b[49m\n\u001b[1;32m    264\u001b[0m \u001b[43m    \u001b[49m\u001b[43m)\u001b[49m\n\u001b[1;32m    265\u001b[0m     \u001b[38;5;28mself\u001b[39m\u001b[38;5;241m.\u001b[39mdebug(\u001b[38;5;124m\"\u001b[39m\u001b[38;5;124mDone simulating. Do sanity check...\u001b[39m\u001b[38;5;124m\"\u001b[39m)\n\u001b[1;32m    266\u001b[0m     \u001b[38;5;28;01mif\u001b[39;00m sanity_check:\n",
      "File \u001b[0;32m~/Documents/projects/master/p21cm-venv/lib/python3.11/site-packages/py21cmfast/wrapper.py:2875\u001b[0m, in \u001b[0;36mrun_lightcone\u001b[0;34m(redshift, max_redshift, lightcone_quantities, lightconer, user_params, cosmo_params, astro_params, flag_options, regenerate, write, global_quantities, direc, init_box, perturb, random_seed, coeval_callback, coeval_callback_redshifts, use_interp_perturb_field, cleanup, hooks, always_purge, lightcone_filename, return_at_z, **global_kwargs)\u001b[0m\n\u001b[1;32m   2866\u001b[0m \u001b[38;5;28;01mif\u001b[39;00m flag_options\u001b[38;5;241m.\u001b[39mUSE_TS_FLUCT:\n\u001b[1;32m   2867\u001b[0m     st2 \u001b[38;5;241m=\u001b[39m spin_temperature(\n\u001b[1;32m   2868\u001b[0m         redshift\u001b[38;5;241m=\u001b[39mz,\n\u001b[1;32m   2869\u001b[0m         previous_spin_temp\u001b[38;5;241m=\u001b[39mst,\n\u001b[0;32m   (...)\u001b[0m\n\u001b[1;32m   2872\u001b[0m         \u001b[38;5;241m*\u001b[39m\u001b[38;5;241m*\u001b[39mkw,\n\u001b[1;32m   2873\u001b[0m     )\n\u001b[0;32m-> 2875\u001b[0m ib2 \u001b[38;5;241m=\u001b[39m \u001b[43mionize_box\u001b[49m\u001b[43m(\u001b[49m\n\u001b[1;32m   2876\u001b[0m \u001b[43m    \u001b[49m\u001b[43mredshift\u001b[49m\u001b[38;5;241;43m=\u001b[39;49m\u001b[43mz\u001b[49m\u001b[43m,\u001b[49m\n\u001b[1;32m   2877\u001b[0m \u001b[43m    \u001b[49m\u001b[43mprevious_ionize_box\u001b[49m\u001b[38;5;241;43m=\u001b[39;49m\u001b[43mib\u001b[49m\u001b[43m,\u001b[49m\n\u001b[1;32m   2878\u001b[0m \u001b[43m    \u001b[49m\u001b[43mperturbed_field\u001b[49m\u001b[38;5;241;43m=\u001b[39;49m\u001b[43mpf2\u001b[49m\u001b[43m,\u001b[49m\n\u001b[1;32m   2879\u001b[0m \u001b[43m    \u001b[49m\u001b[43mprevious_perturbed_field\u001b[49m\u001b[38;5;241;43m=\u001b[39;49m\u001b[43mprev_perturb\u001b[49m\u001b[43m,\u001b[49m\n\u001b[1;32m   2880\u001b[0m \u001b[43m    \u001b[49m\u001b[43mspin_temp\u001b[49m\u001b[38;5;241;43m=\u001b[39;49m\u001b[43mst2\u001b[49m\u001b[43m,\u001b[49m\n\u001b[1;32m   2881\u001b[0m \u001b[43m    \u001b[49m\u001b[43mpt_halos\u001b[49m\u001b[38;5;241;43m=\u001b[39;49m\u001b[43mpt_halos\u001b[49m\u001b[43m,\u001b[49m\n\u001b[1;32m   2882\u001b[0m \u001b[43m    \u001b[49m\u001b[43mcleanup\u001b[49m\u001b[38;5;241;43m=\u001b[39;49m\u001b[43m(\u001b[49m\u001b[43mcleanup\u001b[49m\u001b[43m \u001b[49m\u001b[38;5;129;43;01mand\u001b[39;49;00m\u001b[43m \u001b[49m\u001b[43miz\u001b[49m\u001b[43m \u001b[49m\u001b[38;5;241;43m==\u001b[39;49m\u001b[43m \u001b[49m\u001b[43m(\u001b[49m\u001b[38;5;28;43mlen\u001b[39;49m\u001b[43m(\u001b[49m\u001b[43mscrollz\u001b[49m\u001b[43m)\u001b[49m\u001b[43m \u001b[49m\u001b[38;5;241;43m-\u001b[39;49m\u001b[43m \u001b[49m\u001b[38;5;241;43m1\u001b[39;49m\u001b[43m)\u001b[49m\u001b[43m)\u001b[49m\u001b[43m,\u001b[49m\n\u001b[1;32m   2883\u001b[0m \u001b[43m    \u001b[49m\u001b[38;5;241;43m*\u001b[39;49m\u001b[38;5;241;43m*\u001b[39;49m\u001b[43mkw\u001b[49m\u001b[43m,\u001b[49m\n\u001b[1;32m   2884\u001b[0m \u001b[43m\u001b[49m\u001b[43m)\u001b[49m\n\u001b[1;32m   2885\u001b[0m log10_mturnovers[iz] \u001b[38;5;241m=\u001b[39m ib2\u001b[38;5;241m.\u001b[39mlog10_Mturnover_ave\n\u001b[1;32m   2886\u001b[0m log10_mturnovers_mini[iz] \u001b[38;5;241m=\u001b[39m ib2\u001b[38;5;241m.\u001b[39mlog10_Mturnover_MINI_ave\n",
      "File \u001b[0;32m~/Documents/projects/master/p21cm-venv/lib/python3.11/site-packages/py21cmfast/wrapper.py:1686\u001b[0m, in \u001b[0;36mionize_box\u001b[0;34m(astro_params, flag_options, redshift, perturbed_field, previous_perturbed_field, previous_ionize_box, spin_temp, pt_halos, init_boxes, cosmo_params, user_params, regenerate, write, direc, random_seed, cleanup, hooks, **global_kwargs)\u001b[0m\n\u001b[1;32m   1675\u001b[0m     spin_temp \u001b[38;5;241m=\u001b[39m spin_temperature(\n\u001b[1;32m   1676\u001b[0m         perturbed_field\u001b[38;5;241m=\u001b[39mperturbed_field,\n\u001b[1;32m   1677\u001b[0m         flag_options\u001b[38;5;241m=\u001b[39mflag_options,\n\u001b[0;32m   (...)\u001b[0m\n\u001b[1;32m   1682\u001b[0m         cleanup\u001b[38;5;241m=\u001b[39mcleanup,\n\u001b[1;32m   1683\u001b[0m     )\n\u001b[1;32m   1685\u001b[0m \u001b[38;5;66;03m# Run the C Code\u001b[39;00m\n\u001b[0;32m-> 1686\u001b[0m \u001b[38;5;28;01mreturn\u001b[39;00m \u001b[43mbox\u001b[49m\u001b[38;5;241;43m.\u001b[39;49m\u001b[43mcompute\u001b[49m\u001b[43m(\u001b[49m\n\u001b[1;32m   1687\u001b[0m \u001b[43m    \u001b[49m\u001b[43mperturbed_field\u001b[49m\u001b[38;5;241;43m=\u001b[39;49m\u001b[43mperturbed_field\u001b[49m\u001b[43m,\u001b[49m\n\u001b[1;32m   1688\u001b[0m \u001b[43m    \u001b[49m\u001b[43mprev_perturbed_field\u001b[49m\u001b[38;5;241;43m=\u001b[39;49m\u001b[43mprevious_perturbed_field\u001b[49m\u001b[43m,\u001b[49m\n\u001b[1;32m   1689\u001b[0m \u001b[43m    \u001b[49m\u001b[43mprev_ionize_box\u001b[49m\u001b[38;5;241;43m=\u001b[39;49m\u001b[43mprevious_ionize_box\u001b[49m\u001b[43m,\u001b[49m\n\u001b[1;32m   1690\u001b[0m \u001b[43m    \u001b[49m\u001b[43mspin_temp\u001b[49m\u001b[38;5;241;43m=\u001b[39;49m\u001b[43mspin_temp\u001b[49m\u001b[43m,\u001b[49m\n\u001b[1;32m   1691\u001b[0m \u001b[43m    \u001b[49m\u001b[43mpt_halos\u001b[49m\u001b[38;5;241;43m=\u001b[39;49m\u001b[43mpt_halos\u001b[49m\u001b[43m,\u001b[49m\n\u001b[1;32m   1692\u001b[0m \u001b[43m    \u001b[49m\u001b[43mics\u001b[49m\u001b[38;5;241;43m=\u001b[39;49m\u001b[43minit_boxes\u001b[49m\u001b[43m,\u001b[49m\n\u001b[1;32m   1693\u001b[0m \u001b[43m    \u001b[49m\u001b[43mhooks\u001b[49m\u001b[38;5;241;43m=\u001b[39;49m\u001b[43mhooks\u001b[49m\u001b[43m,\u001b[49m\n\u001b[1;32m   1694\u001b[0m \u001b[43m\u001b[49m\u001b[43m)\u001b[49m\n",
      "File \u001b[0;32m~/Documents/projects/master/p21cm-venv/lib/python3.11/site-packages/py21cmfast/outputs.py:615\u001b[0m, in \u001b[0;36mIonizedBox.compute\u001b[0;34m(self, perturbed_field, prev_perturbed_field, prev_ionize_box, spin_temp, pt_halos, ics, hooks)\u001b[0m\n\u001b[1;32m    603\u001b[0m \u001b[38;5;28;01mdef\u001b[39;00m \u001b[38;5;21mcompute\u001b[39m(\n\u001b[1;32m    604\u001b[0m     \u001b[38;5;28mself\u001b[39m,\n\u001b[1;32m    605\u001b[0m     \u001b[38;5;241m*\u001b[39m,\n\u001b[0;32m   (...)\u001b[0m\n\u001b[1;32m    612\u001b[0m     hooks: \u001b[38;5;28mdict\u001b[39m,\n\u001b[1;32m    613\u001b[0m ):\n\u001b[1;32m    614\u001b[0m \u001b[38;5;250m    \u001b[39m\u001b[38;5;124;03m\"\"\"Compute the function.\"\"\"\u001b[39;00m\n\u001b[0;32m--> 615\u001b[0m     \u001b[38;5;28;01mreturn\u001b[39;00m \u001b[38;5;28;43mself\u001b[39;49m\u001b[38;5;241;43m.\u001b[39;49m\u001b[43m_compute\u001b[49m\u001b[43m(\u001b[49m\n\u001b[1;32m    616\u001b[0m \u001b[43m        \u001b[49m\u001b[38;5;28;43mself\u001b[39;49m\u001b[38;5;241;43m.\u001b[39;49m\u001b[43mredshift\u001b[49m\u001b[43m,\u001b[49m\n\u001b[1;32m    617\u001b[0m \u001b[43m        \u001b[49m\u001b[38;5;28;43mself\u001b[39;49m\u001b[38;5;241;43m.\u001b[39;49m\u001b[43mprev_ionize_redshift\u001b[49m\u001b[43m,\u001b[49m\n\u001b[1;32m    618\u001b[0m \u001b[43m        \u001b[49m\u001b[38;5;28;43mself\u001b[39;49m\u001b[38;5;241;43m.\u001b[39;49m\u001b[43muser_params\u001b[49m\u001b[43m,\u001b[49m\n\u001b[1;32m    619\u001b[0m \u001b[43m        \u001b[49m\u001b[38;5;28;43mself\u001b[39;49m\u001b[38;5;241;43m.\u001b[39;49m\u001b[43mcosmo_params\u001b[49m\u001b[43m,\u001b[49m\n\u001b[1;32m    620\u001b[0m \u001b[43m        \u001b[49m\u001b[38;5;28;43mself\u001b[39;49m\u001b[38;5;241;43m.\u001b[39;49m\u001b[43mastro_params\u001b[49m\u001b[43m,\u001b[49m\n\u001b[1;32m    621\u001b[0m \u001b[43m        \u001b[49m\u001b[38;5;28;43mself\u001b[39;49m\u001b[38;5;241;43m.\u001b[39;49m\u001b[43mflag_options\u001b[49m\u001b[43m,\u001b[49m\n\u001b[1;32m    622\u001b[0m \u001b[43m        \u001b[49m\u001b[43mperturbed_field\u001b[49m\u001b[43m,\u001b[49m\n\u001b[1;32m    623\u001b[0m \u001b[43m        \u001b[49m\u001b[43mprev_perturbed_field\u001b[49m\u001b[43m,\u001b[49m\n\u001b[1;32m    624\u001b[0m \u001b[43m        \u001b[49m\u001b[43mprev_ionize_box\u001b[49m\u001b[43m,\u001b[49m\n\u001b[1;32m    625\u001b[0m \u001b[43m        \u001b[49m\u001b[43mspin_temp\u001b[49m\u001b[43m,\u001b[49m\n\u001b[1;32m    626\u001b[0m \u001b[43m        \u001b[49m\u001b[43mpt_halos\u001b[49m\u001b[43m,\u001b[49m\n\u001b[1;32m    627\u001b[0m \u001b[43m        \u001b[49m\u001b[43mics\u001b[49m\u001b[43m,\u001b[49m\n\u001b[1;32m    628\u001b[0m \u001b[43m        \u001b[49m\u001b[43mhooks\u001b[49m\u001b[38;5;241;43m=\u001b[39;49m\u001b[43mhooks\u001b[49m\u001b[43m,\u001b[49m\n\u001b[1;32m    629\u001b[0m \u001b[43m    \u001b[49m\u001b[43m)\u001b[49m\n",
      "File \u001b[0;32m~/Documents/projects/master/p21cm-venv/lib/python3.11/site-packages/py21cmfast/_utils.py:1483\u001b[0m, in \u001b[0;36mOutputStruct._compute\u001b[0;34m(self, hooks, *args)\u001b[0m\n\u001b[1;32m   1481\u001b[0m \u001b[38;5;66;03m# Perform the C computation\u001b[39;00m\n\u001b[1;32m   1482\u001b[0m \u001b[38;5;28;01mtry\u001b[39;00m:\n\u001b[0;32m-> 1483\u001b[0m     exitcode \u001b[38;5;241m=\u001b[39m \u001b[38;5;28;43mself\u001b[39;49m\u001b[38;5;241;43m.\u001b[39;49m\u001b[43m_c_compute_function\u001b[49m\u001b[43m(\u001b[49m\u001b[38;5;241;43m*\u001b[39;49m\u001b[43minputs\u001b[49m\u001b[43m,\u001b[49m\u001b[43m \u001b[49m\u001b[38;5;28;43mself\u001b[39;49m\u001b[43m(\u001b[49m\u001b[43m)\u001b[49m\u001b[43m)\u001b[49m\n\u001b[1;32m   1484\u001b[0m \u001b[38;5;28;01mexcept\u001b[39;00m \u001b[38;5;167;01mTypeError\u001b[39;00m \u001b[38;5;28;01mas\u001b[39;00m e:\n\u001b[1;32m   1485\u001b[0m     logger\u001b[38;5;241m.\u001b[39merror(\n\u001b[1;32m   1486\u001b[0m         \u001b[38;5;124mf\u001b[39m\u001b[38;5;124m\"\u001b[39m\u001b[38;5;124mArguments to \u001b[39m\u001b[38;5;132;01m{\u001b[39;00m\u001b[38;5;28mself\u001b[39m\u001b[38;5;241m.\u001b[39m_c_compute_function\u001b[38;5;241m.\u001b[39m\u001b[38;5;18m__name__\u001b[39m\u001b[38;5;132;01m}\u001b[39;00m\u001b[38;5;124m: \u001b[39m\u001b[38;5;124m\"\u001b[39m\n\u001b[1;32m   1487\u001b[0m         \u001b[38;5;124mf\u001b[39m\u001b[38;5;124m\"\u001b[39m\u001b[38;5;132;01m{\u001b[39;00m[arg()\u001b[38;5;250m \u001b[39m\u001b[38;5;28;01mif\u001b[39;00m\u001b[38;5;250m \u001b[39m\u001b[38;5;28misinstance\u001b[39m(arg,\u001b[38;5;250m \u001b[39mStructWrapper)\u001b[38;5;250m \u001b[39m\u001b[38;5;28;01melse\u001b[39;00m\u001b[38;5;250m \u001b[39marg\u001b[38;5;250m \u001b[39m\u001b[38;5;28;01mfor\u001b[39;00m\u001b[38;5;250m \u001b[39marg\u001b[38;5;250m \u001b[39m\u001b[38;5;129;01min\u001b[39;00m\u001b[38;5;250m \u001b[39margs]\u001b[38;5;132;01m}\u001b[39;00m\u001b[38;5;124m\"\u001b[39m\n\u001b[1;32m   1488\u001b[0m     )\n",
      "\u001b[0;31mKeyboardInterrupt\u001b[0m: "
     ]
    }
   ],
   "source": [
    "# initialize probability class\n",
    "\n",
    "prior_ranges = {\n",
    "    \"astro_params\": {\n",
    "        \"L_X\": [38, 42],\n",
    "        \"NU_X_THRESH\": [100, 1500],\n",
    "        \"ION_Tvir_MIN\": [4, 5.3],\n",
    "        \"HII_EFF_FACTOR\": [10, 250]\n",
    "    }\n",
    "}\n",
    "\n",
    "fiducial_parameter = {\n",
    "    \"user_params\": {\n",
    "        \"HII_DIM\": 40,\n",
    "        \"BOX_LEN\": 160,\n",
    "        \"N_THREADS\": 1,\n",
    "        \"USE_INTERPOLATION_TABLES\": True,\n",
    "    },\n",
    "    \"flag_options\": {\n",
    "        \"USE_TS_FLUCT\": False,\n",
    "        \"INHOMO_RECO\": False\n",
    "    },\n",
    "    \"astro_params\": {\n",
    "        \"INHOMO_RECO\": False,\n",
    "        \"L_X\": 40,\n",
    "        \"NU_X_THRESH\": 500,\n",
    "        \"ION_Tvir_MIN\": 5,\n",
    "        \"HII_EFF_FACTOR\": 30\n",
    "    },\n",
    "    \"make_statistics\": False,\n",
    "}\n",
    "\n",
    "probability = Probability(prior_ranges=prior_ranges, z_chunks=10, bins=10, debug=True, \n",
    "                          fmodel_path=\"./emcee_data/fiducial_ps.npy\")\n",
    "\n",
    "emcee = Flower(Probability=probability, redshift=5, data_path=\"./emcee_data/\", noise_type=None,\n",
    "                       regenerate_fiducial=True, fid_params=fiducial_parameter, debug=False)\n",
    "\n",
    "\n",
    "emcee.run_emcee(threads=12, nsteps=240, walkers=24)\n"
   ]
  },
  {
   "cell_type": "code",
   "execution_count": 2,
   "metadata": {},
   "outputs": [],
   "source": [
    "{'global_params': {'M_WDM': 3.501515617898722}, \n",
    " 'cosmo_params': {'OMm': 0.14078494774504743}, \n",
    " 'astro_params': {'L_X': 2.093953125940754, \n",
    "                  'NU_X_THRESH': 453.94456146918685, \n",
    "                  'ION_Tvir_MIN': 0.25907883271173016, \n",
    "                  'HII_EFF_FACTOR': 192.22061520453673}}"
   ]
  },
  {
   "cell_type": "code",
   "execution_count": 3,
   "metadata": {},
   "outputs": [
    {
     "data": {
      "text/plain": [
       "16.049766948644233"
      ]
     },
     "execution_count": 3,
     "metadata": {},
     "output_type": "execute_result"
    }
   ],
   "source": [
    "[3.50151562e+00 1.40784948e-01 2.09395313e+00 4.53944561e+02\n",
    " 2.59078833e-01 1.92220615e+02]"
   ]
  },
  {
   "cell_type": "code",
   "execution_count": 4,
   "metadata": {},
   "outputs": [
    {
     "data": {
      "text/plain": [
       "(3,)"
      ]
     },
     "execution_count": 4,
     "metadata": {},
     "output_type": "execute_result"
    }
   ],
   "source": [
    "np.array([1,3,4,]).shape"
   ]
  },
  {
   "cell_type": "code",
   "execution_count": null,
   "metadata": {},
   "outputs": [],
   "source": []
  }
 ],
 "metadata": {
  "kernelspec": {
   "display_name": "ml-env",
   "language": "python",
   "name": "python3"
  },
  "language_info": {
   "codemirror_mode": {
    "name": "ipython",
    "version": 3
   },
   "file_extension": ".py",
   "mimetype": "text/x-python",
   "name": "python",
   "nbconvert_exporter": "python",
   "pygments_lexer": "ipython3",
   "version": "3.11.0rc1"
  }
 },
 "nbformat": 4,
 "nbformat_minor": 2
}
