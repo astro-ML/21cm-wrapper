{
 "cells": [
  {
   "cell_type": "code",
   "execution_count": null,
   "metadata": {},
   "outputs": [],
   "source": [
    "from Flower import *"
   ]
  },
  {
   "cell_type": "code",
   "execution_count": null,
   "metadata": {},
   "outputs": [],
   "source": [
    "# initialize probability class\n",
    "\n",
    "prior_ranges = {\n",
    "    \"astro_params\": {\n",
    "        \"L_X\": [38, 42],\n",
    "        \"NU_X_THRESH\": [100, 1500],\n",
    "        \"ION_Tvir_MIN\": [4, 5.3],\n",
    "        \"HII_EFF_FACTOR\": [10, 250]\n",
    "    }\n",
    "}\n",
    "\n",
    "fiducial_parameter = {\n",
    "    \"user_params\": {\n",
    "        \"HII_DIM\": 40,\n",
    "        \"BOX_LEN\": 160,\n",
    "        \"N_THREADS\": 1,\n",
    "        \"USE_INTERPOLATION_TABLES\": True,\n",
    "    },\n",
    "    \"flag_options\": {\n",
    "        \"USE_TS_FLUCT\": False,\n",
    "        \"INHOMO_RECO\": False\n",
    "    },\n",
    "    \"astro_params\": {\n",
    "        \"INHOMO_RECO\": False,\n",
    "        \"L_X\": 40,\n",
    "        \"NU_X_THRESH\": 500,\n",
    "        \"ION_Tvir_MIN\": 5,\n",
    "        \"HII_EFF_FACTOR\": 30\n",
    "    },\n",
    "    \"make_statistics\": False,\n",
    "}\n",
    "\n",
    "probability = Probability(prior_ranges=prior_ranges, z_chunks=10, bins=10, debug=True, \n",
    "                          fmodel_path=\"./emcee_data/fiducial_ps.npy\")\n",
    "\n",
    "emcee = Flower(Probability=probability, redshift=5, data_path=\"./emcee_data/\", noise_type=None,\n",
    "                       regenerate_fiducial=True, fid_params=fiducial_parameter, debug=False)\n",
    "\n",
    "\n",
    "emcee.run_emcee(threads=12, nsteps=240, walkers=24)\n"
   ]
  },
  {
   "cell_type": "code",
   "execution_count": null,
   "metadata": {},
   "outputs": [],
   "source": [
    "{'global_params': {'M_WDM': 3.501515617898722}, \n",
    " 'cosmo_params': {'OMm': 0.14078494774504743}, \n",
    " 'astro_params': {'L_X': 2.093953125940754, \n",
    "                  'NU_X_THRESH': 453.94456146918685, \n",
    "                  'ION_Tvir_MIN': 0.25907883271173016, \n",
    "                  'HII_EFF_FACTOR': 192.22061520453673}}"
   ]
  },
  {
   "cell_type": "code",
   "execution_count": 1,
   "metadata": {},
   "outputs": [],
   "source": [
    "from powerbox import get_power\n",
    "import numpy as np\n",
    "data = np.random.rand(100,100,100)\n",
    "from matplotlib import pyplot as plt\n",
    "\n",
    "ps, k, var = get_power(data, boxlength=100, bin_ave=True, get_variance=True, ignore_zero_mode=True)"
   ]
  },
  {
   "cell_type": "code",
   "execution_count": 7,
   "metadata": {},
   "outputs": [],
   "source": [
    "#field = lightcone.brightness_temp[:,:,zbins[bin]:zbins[bin+1]]\n",
    "field = data\n",
    "ps_perp,k_perp, var_perp = get_power(field, boxlength=100, res_ndim=2, bins = 10, \n",
    "                        ignore_zero_mode=False, bin_ave=True, get_variance=True) \n",
    "ps_par, k_par, var_par = get_power(field.T, boxlength=100, res_ndim=1, bins = 10, \n",
    "                            ignore_zero_mode=False, bin_ave=True, get_variance=True)\n",
    "ps_perp = np.mean(ps_perp,axis=1)\n",
    "ps_par = np.mean(ps_par, axis=(1,2))"
   ]
  },
  {
   "cell_type": "code",
   "execution_count": 14,
   "metadata": {},
   "outputs": [
    {
     "data": {
      "text/plain": [
       "(10, 10000)"
      ]
     },
     "execution_count": 14,
     "metadata": {},
     "output_type": "execute_result"
    }
   ],
   "source": [
    "_.shape"
   ]
  },
  {
   "cell_type": "code",
   "execution_count": 5,
   "metadata": {},
   "outputs": [
    {
     "data": {
      "text/plain": [
       "(45,)"
      ]
     },
     "execution_count": 5,
     "metadata": {},
     "output_type": "execute_result"
    }
   ],
   "source": [
    "ps.shape"
   ]
  },
  {
   "cell_type": "code",
   "execution_count": null,
   "metadata": {},
   "outputs": [],
   "source": []
  }
 ],
 "metadata": {
  "kernelspec": {
   "display_name": "ml-env",
   "language": "python",
   "name": "python3"
  },
  "language_info": {
   "codemirror_mode": {
    "name": "ipython",
    "version": 3
   },
   "file_extension": ".py",
   "mimetype": "text/x-python",
   "name": "python",
   "nbconvert_exporter": "python",
   "pygments_lexer": "ipython3",
   "version": "3.11.0rc1"
  }
 },
 "nbformat": 4,
 "nbformat_minor": 2
}
