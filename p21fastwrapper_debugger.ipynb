{
 "cells": [
  {
   "cell_type": "code",
   "execution_count": 1,
   "metadata": {},
   "outputs": [
    {
     "name": "stderr",
     "output_type": "stream",
     "text": [
      "/home/tom/miniconda3/lib/python3.12/site-packages/py21cmfast/_cfg.py:57: UserWarning: Your configuration file is out of date. Updating...\n",
      "  warnings.warn(\n",
      "/home/tom/miniconda3/lib/python3.12/site-packages/py21cmfast/_cfg.py:41: UserWarning: Your configuration file is out of date. Updating...\n",
      "  warnings.warn(\"Your configuration file is out of date. Updating...\")\n"
     ]
    }
   ],
   "source": [
    "from p21cmfastwrapper import *"
   ]
  },
  {
   "cell_type": "code",
   "execution_count": 2,
   "metadata": {},
   "outputs": [
    {
     "name": "stdout",
     "output_type": "stream",
     "text": [
      "use astro_params default config: False\n",
      "use cosmo_params default config: True\n",
      "use user_params default config: False\n",
      "use flag_options default config: True\n",
      "use global_params default config: True\n",
      "Using 21cmFAST version 3.3.1\n"
     ]
    },
    {
     "name": "stderr",
     "output_type": "stream",
     "text": [
      "/home/tom/miniconda3/lib/python3.12/site-packages/py21cmfast/_utils.py:400: UserWarning: The following parameters to FlagOptions are not supported: ['USE_VELS_AUX']\n",
      "  warnings.warn(\n"
     ]
    }
   ],
   "source": [
    "class emcee(Simulation):\n",
    "    def __init__(self):\n",
    "        super().__init__(random_seed=True)\n",
    "        \n",
    "    def fiducial_box(self, load=False):\n",
    "        if load:\n",
    "            self.fmodel = pickle.load(\"./fiducial_model\")[0]\n",
    "        kargs = {\"random_seed\": 42}\n",
    "        self.run_box(kargs=kargs)\n",
    "        self.save(\"./fiducial_model\")\n",
    "        self.fmodel = self.data[0]\n",
    "        \n",
    "    def mc_box(self):   \n",
    "        # make every box random\n",
    "        self.randseed = True\n",
    "        self.run_box()\n",
    "        \n",
    "    def prior(self, theta):\n",
    "        xi, R_mfp, T_vir = theta\n",
    "        if 5 < xi < 100 and 5 < R_mfp < 20 and 10**4 < T_vir < 2*10**5:\n",
    "            return 1\n",
    "        return 0\n",
    "    \n",
    "    def probability(self, theta, x, y):\n",
    "        return self.prior(theta) * self.likelihood(theta, x, y)\n",
    "    \n",
    "    def likelihood(self,x ,y):\n",
    "        return np.sum((x-y)**2/y)\n",
    "    \n",
    "    def mc_step(self):\n",
    "        print(test)\n",
    "        \n",
    "    def compute_fid_ps(self, plot=True, load=False):\n",
    "        self.fps = get_power(self.fmodel, 500, bins=np.linspace(0,1e3, 200))\n",
    "        if plot: plt.loglog(self.fps[1], self.fps[0]*self.fps[1]**3)\n",
    "        \n",
    "    def compute_step_ps(self, plot=True):\n",
    "        self.sps = get_power(self.data[0], 250, bins=np.linspace(0,1e3, 200))\n",
    "        if plot: plt.loglog(self.sps[1], self.sps[0]*self.sps[1]**3)\n",
    "\n",
    "# compute fiducial model (500^3 cMpc^3)\n",
    "test = Simulation(random_seed=False)\n",
    "kargs = {\"random_seed\": 42}\n",
    "test.run_box(kargs=kargs)\n",
    "test.save(\"./fiducial_model\")"
   ]
  },
  {
   "cell_type": "code",
   "execution_count": null,
   "metadata": {},
   "outputs": [],
   "source": [
    "# compute power spectrum\n",
    "ps = get_power(test."
   ]
  }
 ],
 "metadata": {
  "kernelspec": {
   "display_name": "base",
   "language": "python",
   "name": "python3"
  },
  "language_info": {
   "codemirror_mode": {
    "name": "ipython",
    "version": 3
   },
   "file_extension": ".py",
   "mimetype": "text/x-python",
   "name": "python",
   "nbconvert_exporter": "python",
   "pygments_lexer": "ipython3",
   "version": "3.12.2"
  }
 },
 "nbformat": 4,
 "nbformat_minor": 2
}
