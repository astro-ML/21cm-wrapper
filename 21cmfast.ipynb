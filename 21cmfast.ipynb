{
 "cells": [
  {
   "cell_type": "code",
   "execution_count": 40,
   "metadata": {},
   "outputs": [
    {
     "name": "stdout",
     "output_type": "stream",
     "text": [
      "Using 21cmFAST version 3.3.1\n"
     ]
    }
   ],
   "source": [
    "import py21cmfast as p21c\n",
    "from matplotlib import pyplot as plt\n",
    "import os \n",
    "import logging, sys, os\n",
    "logger = logging.getLogger('21cmFAST')\n",
    "logger.setLevel(logging.INFO)\n",
    "from py21cmfast import plotting\n",
    "from py21cmfast import cache_tools\n",
    "from multiprocessing import Pool\n",
    "import timeit\n",
    "import numpy as np\n",
    "import random\n",
    "import yaml\n",
    "import itertools\n",
    "from powerbox.tools import get_power\n",
    "\n",
    "cache_path = \"../_cache\"\n",
    "\n",
    "if not os.path.exists(cache_path):\n",
    "    os.mkdir(cache_path)\n",
    "\n",
    "p21c.config['direc'] = cache_path\n",
    "# cache_tools.clear_cache(direc=cache_path)\n",
    "\n",
    "print(f\"Using 21cmFAST version {p21c.__version__}\")\n",
    "\n",
    "class Parameters():    \n",
    "    '''Auxillary class to initialize and update parameters given a config file or on the fly.'''\n",
    "    def __init__(self, random_seed=True, parameter_path=\"./\"):\n",
    "        self.prechange = True\n",
    "        self.random_seed = random_seed\n",
    "        with open(parameter_path + \"parameter.yaml\", 'r') as file:\n",
    "            parameter = yaml.safe_load(file)\n",
    "        \n",
    "        \n",
    "        use_default = []\n",
    "        for key in parameter.keys():\n",
    "            if key == \"input_params\":\n",
    "                self.input_params = parameter[\"input_params\"]\n",
    "            else:\n",
    "                print(f\"use {key} default config: {parameter[key][\"use_default\"]}\")\n",
    "                use_default.append(parameter[key][\"use_default\"])\n",
    "                parameter[key].pop(\"use_default\")\n",
    "        parameter.pop(\"input_params\")\n",
    "        \n",
    "        self.astro_params = parameter[\"astro_params\"] if not use_default[0] else p21c.AstroParams()\n",
    "        self.cosmo_params = parameter[\"cosmo_params\"] if not use_default[1] else p21c.CosmoParams()\n",
    "        self.user_params = parameter[\"user_params\"] if not use_default[2] else p21c.UserParams()\n",
    "        self.flag_params = parameter[\"flag_options\"] if not use_default[3] else p21c.FlagOptions()\n",
    "        self.global_params = parameter[\"global_params\"] if not use_default[4] else {}\n",
    "        parameter.pop(\"global_params\")\n",
    "        \n",
    "        self.input_params.update(parameter)\n",
    "        self.standard_config = self.input_params.copy() \n",
    "        \n",
    "    def kwargs_update(self, kargs):\n",
    "        self.input_params.update(kargs)\n",
    "        \n",
    "            \n",
    "    def pbox_run(self, zsteps):\n",
    "        if self.prechange:\n",
    "            self.prechange = False\n",
    "            self.lcone_quantities = self.input_params.pop(\"lightcone_quantities\")\n",
    "            self.z = [self.input_params[\"redshift\"] + (self.input_params[\"max_redshift\"] - self.input_params[\"redshift\"])/zsteps * i for i in range(zsteps+1)] \n",
    "            self.input_params[\"redshift\"] = self.z\n",
    "            self.input_params.pop(\"max_redshift\")\n",
    "        else:\n",
    "            self.prechange = False\n",
    "            self.input_params[\"lightcone_quantities\"] = self.lcone_quantities\n",
    "            self.input_params[\"redshift\"] = self.z[0]\n",
    "            self.input_params[\"max_redshift\"] = self.z[-1]\n",
    "            \n",
    "    def randomize(self):\n",
    "        self.input_params[\"random_seed\"] = random.randint(0,99999)\n",
    "                \n",
    "            \n",
    "        \n",
    "    \n",
    "class Simulation(Parameters):\n",
    "    '''Dynamically execute and plot simulations.'''\n",
    "    def __init__(self, random_seed=True):\n",
    "        super().__init__(random_seed=random_seed)\n",
    "        self.data = []\n",
    "        self.randseed = random_seed\n",
    "        \n",
    "    def __len__(self):\n",
    "        '''Returns length of the data-array'''\n",
    "        return len(self.data)\n",
    "        \n",
    "    def run_box(self, runs, zsteps, kargs={}):\n",
    "        '''Run a simple box simulation'''\n",
    "        self.simtype = 0\n",
    "        self.pbox_run(zsteps)\n",
    "        with p21c.global_params.use(**self.global_params):\n",
    "            for _ in range(runs):\n",
    "                self.kwargs_update(kargs)\n",
    "                self.data.append(p21c.run_coeval(**self.input_params))\n",
    "        self.pbox_run(zsteps)\n",
    "    \n",
    "    def run_lightcone(self, runs, kargs={}):\n",
    "        '''Run a simple lightcone simulation'''\n",
    "        self.simtype = 1\n",
    "        with p21c.global_params.use(**self.global_params):\n",
    "            for _ in range(runs):\n",
    "                if self.randseed: self.randomize()\n",
    "                self.kwargs_update(kargs)\n",
    "                self.data.append(p21c.run_lightcone(**self.input_params))\n",
    "                \n",
    "    def run_fixed_multi_lightcone(self, rargs):\n",
    "        '''Compute multiple lightcones given a list of parameters as a dict with list entries\n",
    "        e.g. rargs = {\"NU_X_THRESH\": [1,2,3], \"HII_EFF_FACTOR\": [1,2], ...}'''\n",
    "        for values in itertools.product(*rargs.values()):\n",
    "            run_params = (lambda d, values: {k: v for k, v in zip(d.keys(), values)})(rargs, values)\n",
    "            print(\"Parameter run: \",run_params)\n",
    "            self.run_lightcone(runs=1, kargs=run_params)\n",
    "            \n",
    "    def plot_global_properties(self, run=[-1], observational_axis = False, print_params = ['']):\n",
    "        '''Make a plot of the global quantities of the lightcone\n",
    "        run: array of run_ids which should be printed\n",
    "        observational_axis: plot the x-axis in MHz instead of redshift\n",
    "        print_params: Additional array of parameters which are printed as plain text for debug reasons'''\n",
    "        x_map = (lambda z: 1420.4/(z + 1)) if observational_axis else (lambda z: z)\n",
    "        if run[0] == -1:\n",
    "            run = range(len(self.data))\n",
    "        if self.simtype != 1:\n",
    "            print(\"Non-lightcone simulation not supported.\")\n",
    "            return\n",
    "        w,h = len(run), len(self.data[0].global_quantities)\n",
    "        fig, ax = plt.subplots(h,w, figsize=(4*w,4*h))\n",
    "        ax = ax.reshape(h,w)\n",
    "        for r in run:\n",
    "            add_string = ''\n",
    "            for p in print_params:\n",
    "                if p != '': add_string += p + '=' + str(self.data[r].astro_params.defining_dict[p]) + ', '\n",
    "            title = f\"run={r}\"\n",
    "            if add_string != '': title += '\\n' + add_string\n",
    "            ax[0,r].set_title(f\"{title}\")\n",
    "            for q, quantity in enumerate(self.data[r].global_quantities.keys()):\n",
    "                ax[q,r].plot(x_map(np.array(self.data[r].node_redshifts)), self.data[r].global_quantities[quantity])\n",
    "                ax[q,r].set_xlabel(\"MHz\" if observational_axis else \"z\")\n",
    "                ax[q,r].set_ylabel(quantity)\n",
    "        plt.tight_layout()\n",
    "        plt.show()\n",
    "            \n",
    "    def plot_imshow(self, run=-1, fields=[\"brightness_temp\"], print_params = [''], extended=True):\n",
    "        '''\n",
    "        run: plot given run, -1 to print them all\n",
    "        fiels: list of fields that should be printed\n",
    "        print_params: also show given parameters on the plots (only astro parameter!)\n",
    "        extended: make additional graphs and statistics'''\n",
    "        if run == -1:\n",
    "            data = self.data\n",
    "        else: \n",
    "            data = [self.data[run]]\n",
    "        match self.simtype:\n",
    "            case 0:\n",
    "                h = len(data)\n",
    "                w = len(data[0])\n",
    "                for field in fields:\n",
    "                    fig, ax = plt.subplots(h,w, figsize=(4*w,4*h))\n",
    "                    ax = ax.reshape(h,w)\n",
    "                    for (j, axis) in zip(range(len(data)),  ax):\n",
    "                        add_string = ''\n",
    "                        for p in print_params:\n",
    "                            if p != '': add_string += p + '=' + str(data[j].astro_params.defining_dict[p]) + ', '\n",
    "                        for i, (dat, redshift, a) in enumerate(zip(data[j], [z.redshift for z in self.data[j]], axis)):\n",
    "                            if i<1:\n",
    "                                plotting.coeval_sliceplot(dat, ax=a, fig=fig, kind=field)\n",
    "                            else:\n",
    "                                plotting.coeval_sliceplot(dat, ax=a, fig=fig, kind=field, printlabel=False)\n",
    "                            title = f\"{field}, z = {round(redshift,2)}\"\n",
    "                            if add_string != '': title += '\\n' + add_string\n",
    "                            plt.title(title)\n",
    "                    plt.tight_layout()\n",
    "                    plt.show()\n",
    "            case 1:\n",
    "                h = len(data)\n",
    "                for field in fields:\n",
    "                    fig, ax = plt.subplots(h,1, figsize=(12,4*h))\n",
    "                    ax = ax.flatten() if h > 1 else [ax]\n",
    "                    for i, dat in enumerate(data):\n",
    "                        add_string = ''\n",
    "                        for p in print_params:\n",
    "                            if p != '': add_string += p + \" = \" + str(data[i].astro_params.defining_dict[p]) + ', '\n",
    "                        z = dat.node_redshifts\n",
    "                        plotting.lightcone_sliceplot(dat, ax=ax[i], fig=fig, kind=field)\n",
    "                        title = f\"{field}, z = [{round(max(z),2)} -> {round(min(z),2)}] in {len(z)} steps, run = {i+1} \"\n",
    "                        if add_string != '': title += '\\n' + add_string\n",
    "                        plt.title(title)\n",
    "                    ax = np.reshape(ax, (h,1))\n",
    "                    plt.tight_layout()\n",
    "                    plt.show()     \n",
    "                    \n",
    "    def plot_ps(self, bins=10, run=[-1], compare=False, observational_axis = False, logp = True):\n",
    "        '''Plot the power spectra given a fixed bin number. (Future: Do the same with a dz range but p21cm saves lightcone with constant physical distances not redshift ->)\n",
    "        run (array): plot ps of given run, -1 to print them all\n",
    "        compare (bool): Activating compare puts all simulations with equal redshift range in a single plot (useful to compare the ps of different simualtions)\n",
    "        in_f (bool): changes the x axis from k in Mpc^-3 to lambda in real space (Mpc^3)\n",
    "        logp (bool): Activating make the plots in log-log axis.\n",
    "        '''\n",
    "        binspace = np.linspace(0,len(self.data[0].lightcone_redshifts)-1,bins).astype(int)\n",
    "        \n",
    "        x_map = (lambda k: 2*np.pi/k) if observational_axis else (lambda k: k)\n",
    "        \n",
    "        if run[0] == -1:\n",
    "            run = range(len(self.data))\n",
    "            \n",
    "            \n",
    "        if not compare: \n",
    "            h,w = len(run),bins-1\n",
    "            fig, ax = plt.subplots(h,w, figsize=(4*w,4*h))\n",
    "            ax = ax.reshape(h,w)\n",
    "            for r in run:\n",
    "                for bin in range(w):\n",
    "                    physical_size = self.data[r].lightcone_distances[binspace[bin+1]] - self.data[r].lightcone_distances[binspace[bin]]\n",
    "                    #print(f\"binspace: {binspace[bin]}, brightness map: {self.data[r].brightness_temp[:,:,binspace[bin]:binspace[bin+1]].shape}, boxlength= {(*self.data[r].brightness_temp.shape[:2], physical_size)}\")\n",
    "                    ps = get_power(deltax= self.data[r].brightness_temp[:,:,binspace[bin]:binspace[bin+1]], boxlength=(*self.data[r].brightness_temp.shape[:2], physical_size), bin_ave=True, ignore_zero_mode=True, get_variance=False, bins=50)\n",
    "                    ax[r,bin].plot(x_map(ps[1]), ps[0]*ps[1]**3)\n",
    "                    ax[-1,bin].set_xlabel('m in Mpc^3' if observational_axis else \"k in Mpc^-3\")\n",
    "                    #ax[r,bin].set_ylabel(\"P\")\n",
    "                    ax[0,bin].set_title(f'{round(self.data[r].lightcone_redshifts[binspace[bin]],1)} < z < {round(self.data[r].lightcone_redshifts[binspace[bin+1]],1)}')\n",
    "                    ax[r,0].set_ylabel(f\"P(k) * k ^ 3 ; run: {r}\")\n",
    "                    if logp:\n",
    "                        ax[r,bin].set_xscale(\"log\")\n",
    "                        ax[r,bin].set_yscale(\"log\")\n",
    "        else:\n",
    "            h,w = len(run), bins-1\n",
    "            fig, ax = plt.subplots(w,1, figsize=(4*h,4*w))\n",
    "            for r in run:\n",
    "                for bin in range(w):\n",
    "                    physical_size = self.data[r].lightcone_distances[binspace[bin+1]] - self.data[r].lightcone_distances[binspace[bin]]\n",
    "                    ps = get_power(deltax= self.data[r].brightness_temp[:,:,binspace[bin]:binspace[bin+1]], boxlength=(*self.data[r].brightness_temp.shape[:2], physical_size), bin_ave=True, ignore_zero_mode=True, get_variance=False,bins=50)\n",
    "                    ax[bin].plot(x_map(ps[1]), ps[0]*ps[1]**3, label=f\"run {r}\")\n",
    "                    ax[bin].set_title(f'{round(self.data[r].lightcone_redshifts[binspace[bin]],1)} < z < {round(self.data[r].lightcone_redshifts[binspace[bin+1]],1)}')\n",
    "                    ax[bin].set_xlabel('m in Mpc^3' if observational_axis else \"k in Mpc^-3\")\n",
    "                    ax[bin].set_ylabel(f\"P(k) * k ^ 3 ; run: {r}\")\n",
    "                    ax[bin].legend()\n",
    "                    if logp:\n",
    "                        ax[bin].set_xscale(\"log\")\n",
    "                        ax[bin].set_yscale(\"log\")\n",
    "        \n",
    "        plt.tight_layout()\n",
    "        plt.savefig(\"./ps_test.jpg\")\n",
    "        plt.show()\n",
    "\n",
    "    def pop(self,idx):\n",
    "        '''Delete a run with idx'''\n",
    "        self.data.pop(idx)\n",
    "        \n",
    "    def clear(self):\n",
    "        '''Clear the data/runs cache'''\n",
    "        self.data.clear()"
   ]
  },
  {
   "cell_type": "code",
   "execution_count": 44,
   "metadata": {},
   "outputs": [
    {
     "name": "stdout",
     "output_type": "stream",
     "text": [
      "use astro_params default config: True\n",
      "use cosmo_params default config: True\n",
      "use user_params default config: False\n",
      "use flag_options default config: True\n",
      "use global_params default config: True\n",
      "Parameter run:  {'redshift': 6, 'max_redshift': 18, 'random_seed': 1}\n"
     ]
    },
    {
     "name": "stderr",
     "output_type": "stream",
     "text": [
      "/home/tom/miniconda3/lib/python3.12/site-packages/py21cmfast/_utils.py:400: UserWarning: The following parameters to FlagOptions are not supported: ['USE_VELS_AUX']\n",
      "  warnings.warn(\n"
     ]
    }
   ],
   "source": [
    "params = {\"redshift\": [6], \"max_redshift\": [18], \"random_seed\": [1,2]}\n",
    "\n",
    "test = Simulation(random_seed=False)\n",
    "test.run_fixed_multi_lightcone(rargs=params)\n",
    "test.plot_ps(bins=6,compare=True)\n",
    "test.plot_global_properties(observational_axis=True)\n",
    "test.plot_imshow(fields=[\"brightness_temp\",\"xH_box\", \"density\"])"
   ]
  },
  {
   "cell_type": "code",
   "execution_count": 34,
   "metadata": {},
   "outputs": [
    {
     "data": {
      "image/png": "[encoded data removed]",
      "text/plain": [
       "<Figure size 640x480 with 4 Axes>"
      ]
     },
     "metadata": {},
     "output_type": "display_data"
    }
   ],
   "source": [
    "fig, ax = plt.subplots(4)\n",
    "for i in range(4):\n",
    "    ax[i].plot(PS[0]['k'], PS[0]['delta']*PS[0]['k']**3)\n",
    "    #ax[i].set_xscale(\"log\")\n",
    "    #ax[i].set_yscale(\"log\")"
   ]
  },
  {
   "cell_type": "code",
   "execution_count": 12,
   "metadata": {},
   "outputs": [],
   "source": [
    "def compute_power(\n",
    "   box,\n",
    "   length,\n",
    "   n_psbins,\n",
    "   log_bins=False,\n",
    "   ignore_kperp_zero=True,\n",
    "   ignore_kpar_zero=True,\n",
    "   ignore_k_zero=True,\n",
    "):\n",
    "    # Determine the weighting function required from ignoring k's.\n",
    "    k_weights = np.ones(box.shape, dtype=int)\n",
    "    n0 = k_weights.shape[0]\n",
    "    n1 = k_weights.shape[-1]\n",
    "\n",
    "    if ignore_kperp_zero:\n",
    "        k_weights[n0 // 2, n0 // 2, :] = 0\n",
    "    if ignore_kpar_zero:\n",
    "        k_weights[:, :, n1 // 2] = 0\n",
    "    if ignore_k_zero:\n",
    "        k_weights[n0 // 2, n0 // 2, n1 // 2] = 0\n",
    "\n",
    "    res = get_power(\n",
    "        box,\n",
    "        boxlength=length,\n",
    "        bins=n_psbins,\n",
    "        bin_ave=False,\n",
    "        get_variance=False,\n",
    "        log_bins=log_bins,\n",
    "        k_weights=k_weights\n",
    "    )\n",
    "\n",
    "    res = list(res)\n",
    "    k = res[1]\n",
    "    if log_bins:\n",
    "        k = np.exp((np.log(k[1:]) + np.log(k[:-1])) / 2)\n",
    "    else:\n",
    "        k = (k[1:] + k[:-1]) / 2\n",
    "\n",
    "    res[1] = k\n",
    "    return res\n",
    "\n",
    "def powerspectra(brightness_temp, n_psbins=50, nchunks=4, min_k=0.1, max_k=1.0, logk=False):\n",
    "    data = []\n",
    "    chunk_indices = list(range(0,brightness_temp.n_slices,round(brightness_temp.n_slices / nchunks),))\n",
    "\n",
    "    if len(chunk_indices) > nchunks:\n",
    "        chunk_indices = chunk_indices[:-1]\n",
    "    chunk_indices.append(brightness_temp.n_slices)\n",
    "\n",
    "    for i in range(nchunks):\n",
    "        start = chunk_indices[i]\n",
    "        end = chunk_indices[i + 1]\n",
    "        chunklen = (end - start) * brightness_temp.cell_size\n",
    "\n",
    "        power, k = compute_power(\n",
    "            brightness_temp.brightness_temp[:, :, start:end],\n",
    "            (100, 100, chunklen),\n",
    "            n_psbins,\n",
    "            log_bins=logk,\n",
    "        )\n",
    "        data.append({\"k\": k, \"delta\": power})\n",
    "    return data\n",
    "\n",
    "\n",
    "\n",
    "# do 5 chunks but only plot 1 - 4, the 0th has no power for minihalo models where xH=0\n",
    "nchunks = 4\n",
    "\n",
    "PS = powerspectra(test.data[0])"
   ]
  },
  {
   "cell_type": "code",
   "execution_count": 31,
   "metadata": {},
   "outputs": [
    {
     "data": {
      "text/plain": [
       "[<matplotlib.lines.Line2D at 0x75ac1c90bc50>]"
      ]
     },
     "execution_count": 31,
     "metadata": {},
     "output_type": "execute_result"
    },
    {
     "data": {
      "image/png": "[encoded data removed]",
      "text/plain": [
       "<Figure size 640x480 with 1 Axes>"
      ]
     },
     "metadata": {},
     "output_type": "display_data"
    }
   ],
   "source": [
    "ps, k = get_power(test.data[0].brightness_temp[:,:,50], boxlength=(100,100), bins=50)\n",
    "plt.plot(k,ps*k**3)"
   ]
  },
  {
   "cell_type": "code",
   "execution_count": 11,
   "metadata": {},
   "outputs": [
    {
     "data": {
      "image/png": "[encoded data removed]",
      "text/plain": [
       "<Figure size 640x480 with 1 Axes>"
      ]
     },
     "metadata": {},
     "output_type": "display_data"
    }
   ],
   "source": [
    "from powerbox import PowerBox\n",
    "import matplotlib.pyplot as plt\n",
    "pb = PowerBox(100,lambda k : k**-2.)\n",
    "p,k = get_power(pb.delta_x(),pb.boxlength)\n",
    "plt.plot(k,p)\n",
    "plt.plot(k,k**-2.)\n",
    "plt.xscale('log')\n",
    "plt.yscale('log')"
   ]
  },
  {
   "cell_type": "code",
   "execution_count": 35,
   "metadata": {},
   "outputs": [
    {
     "data": {
      "text/plain": [
       "array([0.10635158, 0.26708689, 0.44695136, 0.62520983, 0.79987183,\n",
       "       0.97254258, 1.1512525 , 1.33238897, 1.50944901, 1.68722766,\n",
       "       1.86672714, 2.04146028, 2.21797597, 2.39818945, 2.57617064,\n",
       "       2.75441372, 2.93202224, 3.10615689, 3.28417607, 3.46362915,\n",
       "       3.64130736, 3.82054305, 3.99882654, 4.17394062, 4.35071134,\n",
       "       4.52985277, 4.70888214, 4.88705756, 5.06425415, 5.24043265,\n",
       "       5.41909081, 5.59879043, 5.77605381, 5.95226056, 6.12855976,\n",
       "       6.30090147, 6.48015455, 6.66019756, 6.83908405, 7.01416307,\n",
       "       7.19133776, 7.36955164, 7.54676514, 7.7226107 , 7.89772407,\n",
       "       8.07311276, 8.24634374, 8.42111333, 8.59711117, 8.75791822])"
      ]
     },
     "execution_count": 35,
     "metadata": {},
     "output_type": "execute_result"
    }
   ],
   "source": [
    "k"
   ]
  },
  {
   "cell_type": "code",
   "execution_count": null,
   "metadata": {},
   "outputs": [],
   "source": []
  },
  {
   "cell_type": "code",
   "execution_count": null,
   "metadata": {},
   "outputs": [
    {
     "name": "stdout",
     "output_type": "stream",
     "text": [
      "Object `np.randint` not found.\n"
     ]
    }
   ],
   "source": [
    "np.rand"
   ]
  },
  {
   "cell_type": "code",
   "execution_count": null,
   "metadata": {},
   "outputs": [
    {
     "name": "stderr",
     "output_type": "stream",
     "text": [
      "/tmp/ipykernel_3981/1617486966.py:1: DeprecationWarning: The binary mode of fromstring is deprecated, as it behaves surprisingly on unicode inputs. Use frombuffer instead\n",
      "  np.fromstring(os.urandom(4))\n"
     ]
    },
    {
     "ename": "ValueError",
     "evalue": "string size must be a multiple of element size",
     "output_type": "error",
     "traceback": [
      "\u001b[0;31m---------------------------------------------------------------------------\u001b[0m",
      "\u001b[0;31mValueError\u001b[0m                                Traceback (most recent call last)",
      "Cell \u001b[0;32mIn[32], line 1\u001b[0m\n\u001b[0;32m----> 1\u001b[0m \u001b[43mnp\u001b[49m\u001b[38;5;241;43m.\u001b[39;49m\u001b[43mfromstring\u001b[49m\u001b[43m(\u001b[49m\u001b[43mos\u001b[49m\u001b[38;5;241;43m.\u001b[39;49m\u001b[43murandom\u001b[49m\u001b[43m(\u001b[49m\u001b[38;5;241;43m4\u001b[39;49m\u001b[43m)\u001b[49m\u001b[43m)\u001b[49m\n",
      "\u001b[0;31mValueError\u001b[0m: string size must be a multiple of element size"
     ]
    }
   ],
   "source": [
    "np.fromstring(os.urandom(4))"
   ]
  },
  {
   "cell_type": "code",
   "execution_count": null,
   "metadata": {},
   "outputs": [
    {
     "data": {
      "text/plain": [
       "{'_cobj': <cdata 'struct GlobalParams &' 0x7285e3468e60>,\n",
       " '_ffi': <_cffi_backend.FFI at 0x72869433c660>,\n",
       " 'EVOLVE_DENSITY_LINEARLY': 0,\n",
       " 'SMOOTH_EVOLVED_DENSITY_FIELD': 0,\n",
       " 'R_smooth_density': 0.20000000298023224,\n",
       " 'HII_ROUND_ERR': 9.999999747378752e-06,\n",
       " 'FIND_BUBBLE_ALGORITHM': 2,\n",
       " 'N_POISSON': 5,\n",
       " 'T_USE_VELOCITIES': 1,\n",
       " 'MAX_DVDR': 0.20000000298023224,\n",
       " 'DELTA_R_HII_FACTOR': 1.100000023841858,\n",
       " 'DELTA_R_FACTOR': 1.100000023841858,\n",
       " 'HII_FILTER': 1,\n",
       " 'INITIAL_REDSHIFT': 300.0,\n",
       " 'R_OVERLAP_FACTOR': 1.0,\n",
       " 'DELTA_CRIT_MODE': 1,\n",
       " 'HALO_FILTER': 0,\n",
       " 'OPTIMIZE': 0,\n",
       " 'OPTIMIZE_MIN_MASS': 99999997952.0,\n",
       " 'CRIT_DENS_TRANSITION': 1.5,\n",
       " 'MIN_DENSITY_LOW_LIMIT': 9.000000034120603e-08,\n",
       " 'RecombPhotonCons': 0,\n",
       " 'PhotonConsStart': 0.9950000047683716,\n",
       " 'PhotonConsEnd': 0.30000001192092896,\n",
       " 'PhotonConsAsymptoteTo': 0.009999999776482582,\n",
       " 'PhotonConsEndCalibz': 3.5,\n",
       " 'HEAT_FILTER': 0,\n",
       " 'CLUMPING_FACTOR': 2.0,\n",
       " 'Z_HEAT_MAX': 35.0,\n",
       " 'R_XLy_MAX': 500.0,\n",
       " 'NUM_FILTER_STEPS_FOR_Ts': 40,\n",
       " 'ZPRIME_STEP_FACTOR': 1.0199999809265137,\n",
       " 'TK_at_Z_HEAT_MAX': -1.0,\n",
       " 'XION_at_Z_HEAT_MAX': -1.0,\n",
       " 'Pop': 2,\n",
       " 'Pop2_ion': 5000.0,\n",
       " 'Pop3_ion': 44021.0,\n",
       " 'NU_X_BAND_MAX': 2000.0,\n",
       " 'NU_X_MAX': 10000.0,\n",
       " 'NBINS_LF': 100,\n",
       " 'P_CUTOFF': 0,\n",
       " 'M_WDM': 2.0,\n",
       " 'g_x': 1.5,\n",
       " 'OMn': 0.0,\n",
       " 'OMk': 0.0,\n",
       " 'OMr': 8.600000001024455e-05,\n",
       " 'OMtot': 1.0,\n",
       " 'Y_He': 0.24500000476837158,\n",
       " 'wl': -1.0,\n",
       " 'SHETH_b': 0.15000000596046448,\n",
       " 'SHETH_c': 0.05000000074505806,\n",
       " 'Zreion_HeII': 3.0,\n",
       " 'FILTER': 0,\n",
       " '_external_table_path': <cdata 'char[]' owning 67 bytes>,\n",
       " '_wisdom_path': <cdata 'char[]' owning 33 bytes>,\n",
       " 'R_BUBBLE_MIN': 0.6203504800796509,\n",
       " 'M_MIN_INTEGRAL': 100000.0,\n",
       " 'M_MAX_INTEGRAL': 1.0000000272564224e+16,\n",
       " 'T_RE': 20000.0,\n",
       " 'VAVG': 25.860000610351562,\n",
       " 'USE_FAST_ATOMIC': False,\n",
       " 'USE_ADIABATIC_FLUCTUATIONS': True,\n",
       " '_ctype': 'GlobalParams',\n",
       " '_wisdoms_path': PosixPath('/home/tom/21cmFAST-cache/wisdoms')}"
      ]
     },
     "execution_count": 128,
     "metadata": {},
     "output_type": "execute_result"
    }
   ],
   "source": [
    "test"
   ]
  },
  {
   "cell_type": "code",
   "execution_count": null,
   "metadata": {},
   "outputs": [],
   "source": [
    "class Point:\n",
    "    def __init__(self, x, y):\n",
    "        self.x = x\n",
    "        self.y = y\n",
    "\n",
    "    def __getattr__(self, name: str):\n",
    "        return self.__dict__[f\"_{name}\"]\n",
    "\n",
    "    def __setattr__(self, name, value):\n",
    "        self.__dict__[f\"_{name}\"] = value"
   ]
  },
  {
   "cell_type": "code",
   "execution_count": 79,
   "metadata": {},
   "outputs": [],
   "source": [
    "x = {\"two\": [3,2],\"three\": [3,2] ,\"four\": [4,1]}"
   ]
  },
  {
   "cell_type": "code",
   "execution_count": 84,
   "metadata": {},
   "outputs": [
    {
     "name": "stdout",
     "output_type": "stream",
     "text": [
      "{'two': 3, 'three': 3, 'four': 4}\n",
      "{'two': 3, 'three': 3, 'four': 1}\n",
      "{'two': 3, 'three': 2, 'four': 4}\n",
      "{'two': 3, 'three': 2, 'four': 1}\n",
      "{'two': 2, 'three': 3, 'four': 4}\n",
      "{'two': 2, 'three': 3, 'four': 1}\n",
      "{'two': 2, 'three': 2, 'four': 4}\n",
      "{'two': 2, 'three': 2, 'four': 1}\n"
     ]
    }
   ],
   "source": [
    "y = {}\n",
    "for values in itertools.product(*x.values()):\n",
    "    print((lambda d, values: {k: v for k, v in zip(d.keys(), values)})(x, values))\n",
    "    "
   ]
  },
  {
   "cell_type": "code",
   "execution_count": 81,
   "metadata": {},
   "outputs": [
    {
     "name": "stdout",
     "output_type": "stream",
     "text": [
      "\u001b[0;31mDocstring:\u001b[0m\n",
      "D.update([E, ]**F) -> None.  Update D from dict/iterable E and F.\n",
      "If E is present and has a .keys() method, then does:  for k in E: D[k] = E[k]\n",
      "If E is present and lacks a .keys() method, then does:  for k, v in E: D[k] = v\n",
      "In either case, this is followed by: for k in F:  D[k] = F[k]\n",
      "\u001b[0;31mType:\u001b[0m      method_descriptor"
     ]
    }
   ],
   "source": [
    "dict.update?"
   ]
  },
  {
   "cell_type": "code",
   "execution_count": 74,
   "metadata": {},
   "outputs": [],
   "source": [
    "y.update({\"1\": 2})"
   ]
  },
  {
   "cell_type": "code",
   "execution_count": 75,
   "metadata": {},
   "outputs": [
    {
     "data": {
      "text/plain": [
       "{'1': 2, '2': 2}"
      ]
     },
     "execution_count": 75,
     "metadata": {},
     "output_type": "execute_result"
    }
   ],
   "source": [
    "y"
   ]
  },
  {
   "cell_type": "code",
   "execution_count": null,
   "metadata": {},
   "outputs": [],
   "source": []
  }
 ],
 "metadata": {
  "kernelspec": {
   "display_name": "Python 3",
   "language": "python",
   "name": "python3"
  },
  "language_info": {
   "codemirror_mode": {
    "name": "ipython",
    "version": 3
   },
   "file_extension": ".py",
   "mimetype": "text/x-python",
   "name": "python",
   "nbconvert_exporter": "python",
   "pygments_lexer": "ipython3",
   "version": "3.12.2"
  }
 },
 "nbformat": 4,
 "nbformat_minor": 2
}
