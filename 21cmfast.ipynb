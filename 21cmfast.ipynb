{
 "cells": [
  {
   "cell_type": "code",
   "execution_count": 3,
   "metadata": {},
   "outputs": [
    {
     "ename": "TypeError",
     "evalue": "module() takes at most 2 arguments (3 given)",
     "output_type": "error",
     "traceback": [
      "\u001b[0;31m---------------------------------------------------------------------------\u001b[0m",
      "\u001b[0;31mTypeError\u001b[0m                                 Traceback (most recent call last)",
      "Cell \u001b[0;32mIn[3], line 2\u001b[0m\n\u001b[1;32m      1\u001b[0m \u001b[38;5;66;03m# import the wrapper\u001b[39;00m\n\u001b[0;32m----> 2\u001b[0m \u001b[38;5;28;01mfrom\u001b[39;00m \u001b[38;5;21;01mp21cmfastwrapper\u001b[39;00m \u001b[38;5;28;01mimport\u001b[39;00m \u001b[38;5;241m*\u001b[39m\n",
      "File \u001b[0;32m~/Documents/projects/master/21cm-wrapper/p21cmfastwrapper.py:470\u001b[0m\n\u001b[1;32m    452\u001b[0m         \u001b[38;5;28mprint\u001b[39m(\u001b[38;5;124mf\u001b[39m\u001b[38;5;124m\"\u001b[39m\u001b[38;5;124mDone, \u001b[39m\u001b[38;5;132;01m{\u001b[39;00m\u001b[38;5;28mlen\u001b[39m(nan_counter)\u001b[38;5;132;01m}\u001b[39;00m\u001b[38;5;124m NaNs encountered in \u001b[39m\u001b[38;5;130;01m\\n\u001b[39;00m\u001b[38;5;132;01m{\u001b[39;00mnan_counter\u001b[38;5;132;01m}\u001b[39;00m\u001b[38;5;124m\"\u001b[39m)   \n\u001b[1;32m    455\u001b[0m \u001b[38;5;124;03m\"\"\"\u001b[39;00m\n\u001b[1;32m    456\u001b[0m \u001b[38;5;124;03m    def load(self, name):\u001b[39;00m\n\u001b[1;32m    457\u001b[0m \u001b[38;5;124;03m        with open(name, 'rb') as f:\u001b[39;00m\n\u001b[0;32m   (...)\u001b[0m\n\u001b[1;32m    465\u001b[0m \u001b[38;5;124;03m        self.data.clear()\u001b[39;00m\n\u001b[1;32m    466\u001b[0m \u001b[38;5;124;03m\"\"\"\u001b[39;00m     \n\u001b[0;32m--> 470\u001b[0m \u001b[38;5;28;43;01mclass\u001b[39;49;00m\u001b[43m \u001b[49m\u001b[38;5;21;43;01mLeaf\u001b[39;49;00m\u001b[43m(\u001b[49m\u001b[43mp21c\u001b[49m\u001b[43m)\u001b[49m\u001b[43m:\u001b[49m\n\u001b[1;32m    471\u001b[0m \u001b[43m    \u001b[49m\u001b[38;5;28;43;01mdef\u001b[39;49;00m\u001b[43m \u001b[49m\u001b[38;5;21;43m__init__\u001b[39;49m\u001b[43m(\u001b[49m\u001b[38;5;28;43mself\u001b[39;49m\u001b[43m,\u001b[49m\u001b[43m \u001b[49m\u001b[43mdata_path\u001b[49m\u001b[43m:\u001b[49m\u001b[43m \u001b[49m\u001b[38;5;28;43mstr\u001b[39;49m\u001b[43m \u001b[49m\u001b[38;5;241;43m=\u001b[39;49m\u001b[43m \u001b[49m\u001b[38;5;124;43m\"\u001b[39;49m\u001b[38;5;124;43m./data/\u001b[39;49m\u001b[38;5;124;43m\"\u001b[39;49m\u001b[43m,\u001b[49m\u001b[43m \u001b[49m\u001b[43mdata_prefix\u001b[49m\u001b[43m:\u001b[49m\u001b[43m \u001b[49m\u001b[38;5;28;43mstr\u001b[39;49m\u001b[43m \u001b[49m\u001b[38;5;241;43m=\u001b[39;49m\u001b[43m \u001b[49m\u001b[38;5;124;43m\"\u001b[39;49m\u001b[38;5;124;43msimrun_\u001b[39;49m\u001b[38;5;124;43m\"\u001b[39;49m\u001b[43m,\u001b[49m\u001b[43m \u001b[49m\u001b[43mparameter_file\u001b[49m\u001b[43m:\u001b[49m\u001b[43m \u001b[49m\u001b[38;5;28;43mstr\u001b[39;49m\u001b[43m \u001b[49m\u001b[38;5;241;43m=\u001b[39;49m\u001b[43m \u001b[49m\u001b[38;5;28;43;01mNone\u001b[39;49;00m\u001b[43m,\u001b[49m\u001b[43m \u001b[49m\n\u001b[1;32m    472\u001b[0m \u001b[43m                 \u001b[49m\u001b[43mwrite_cache\u001b[49m\u001b[43m:\u001b[49m\u001b[43m \u001b[49m\u001b[38;5;28;43mbool\u001b[39;49m\u001b[43m \u001b[49m\u001b[38;5;241;43m=\u001b[39;49m\u001b[43m \u001b[49m\u001b[38;5;28;43;01mFalse\u001b[39;49;00m\u001b[43m,\u001b[49m\u001b[43m \u001b[49m\u001b[43mdebug\u001b[49m\u001b[43m:\u001b[49m\u001b[43m \u001b[49m\u001b[38;5;28;43mbool\u001b[39;49m\u001b[43m \u001b[49m\u001b[38;5;241;43m=\u001b[39;49m\u001b[43m \u001b[49m\u001b[38;5;28;43;01mFalse\u001b[39;49;00m\u001b[43m)\u001b[49m\u001b[43m:\u001b[49m\n\u001b[1;32m    473\u001b[0m \u001b[38;5;250;43m        \u001b[39;49m\u001b[38;5;124;43;03m\"\"\"\u001b[39;49;00m\n\u001b[1;32m    474\u001b[0m \u001b[38;5;124;43;03m        Initializes the Leaf class with specified parameters.\u001b[39;49;00m\n\u001b[1;32m    475\u001b[0m \n\u001b[0;32m   (...)\u001b[0m\n\u001b[1;32m    487\u001b[0m \u001b[38;5;124;43;03m            debug (bool): If True, enables verbose output to help identify errors. Default is False.\u001b[39;49;00m\n\u001b[1;32m    488\u001b[0m \u001b[38;5;124;43;03m        \"\"\"\u001b[39;49;00m\n",
      "\u001b[0;31mTypeError\u001b[0m: module() takes at most 2 arguments (3 given)"
     ]
    }
   ],
   "source": [
    "# import the wrapper\n",
    "from p21cmfastwrapper import *"
   ]
  },
  {
   "cell_type": "markdown",
   "metadata": {},
   "source": []
  },
  {
   "cell_type": "code",
   "execution_count": 7,
   "metadata": {},
   "outputs": [
    {
     "name": "stdout",
     "output_type": "stream",
     "text": [
      "use astro_params default config: True\n",
      "use cosmo_params default config: True\n",
      "use user_params default config: False\n",
      "use flag_options default config: False\n",
      "use global_params default config: True\n",
      "./data/ run_* 1 ['run_0']\n",
      "Using 21cmFAST version 0.1.dev1836+gf7c01bf\n"
     ]
    },
    {
     "data": {
      "text/plain": [
       "'save_inclass (bool): If set true, results are saved as a list in the class, very useful for testing and quick analysis. If False, results are saved as a file\\nsave_ondisk (bool): If set True, save results on disk\\nwrite_cache (bool): If true, use the included 21cmfast cache, useful when doing repeated simulations with same seed and init conditions.\\ndata_path (str): path for saving the results of save_ondisk is True\\nfile_name (str): filename for the runs, final name will be: filename + run_id + .h5\\noverride (bool): If True, old runs will be overridden\\ndebug (bool): Print many things along the way if something is screwed again.'"
      ]
     },
     "execution_count": 7,
     "metadata": {},
     "output_type": "execute_result"
    }
   ],
   "source": [
    "# The wrapper uses a parameter file to initialize the simulation for better overview\n",
    "# One can initialize the class by\n",
    "sim = Simulation(save_ondisk=False, write_cache=False, save_inclass=True, debug=True)\n",
    "# important arguments for initializing the Simulation class are:\n",
    "'''save_inclass (bool): If set true, results are saved as a list in the class, very useful for testing and quick analysis. If False, results are saved as a file\n",
    "save_ondisk (bool): If set True, save results on disk\n",
    "write_cache (bool): If true, use the included 21cmfast cache, useful when doing repeated simulations with same seed and init conditions.\n",
    "data_path (str): path for saving the results of save_ondisk is True\n",
    "file_name (str): filename for the runs, final name will be: filename + run_id + .h5\n",
    "override (bool): If True, old runs will be overridden\n",
    "debug (bool): Print many things along the way if something is screwed again.'''"
   ]
  },
  {
   "cell_type": "code",
   "execution_count": 3,
   "metadata": {},
   "outputs": [],
   "source": [
    "# To just run a single box using the parameters one can just \n",
    "sim.run_box()"
   ]
  },
  {
   "cell_type": "code",
   "execution_count": 8,
   "metadata": {},
   "outputs": [],
   "source": [
    "# To simulate a lightcone, one can do\n",
    "sim.run_cone()\n",
    "# Now we clear the cached simulations for the next step\n",
    "#sim.clear()"
   ]
  },
  {
   "cell_type": "code",
   "execution_count": null,
   "metadata": {},
   "outputs": [],
   "source": [
    "# All parameters can be changed on the fly without re-initializing the class, e.g.\n",
    "params = {\"redshift\": 8, \"max_redshift\": 12, \"random_seed\": 1, \"astro_params\": {\"HII_EFF_FACTOR\": 29}} \n",
    "# Note: It is important to preserve the dict structure defined in parameter.yaml for in-situ changes in parameters\n",
    "# This dict needs to be passed as an argument to the wrapper\n",
    "sim.run_lightcone(kargs=params)"
   ]
  },
  {
   "cell_type": "code",
   "execution_count": null,
   "metadata": {},
   "outputs": [],
   "source": [
    "# One can also do multiple runs with different parameters, e.g. we want two realizations of two HII_EFF_FACTORs\n",
    "params = {\"random_seed\": [1,2], \"astro_params\": {\"HII_EFF_FACTOR\": [29,31]}}\n",
    "sim.run_fixed_multi_lightcone(rargs=params)\n",
    "# The result will be four simulations stored in the class"
   ]
  },
  {
   "cell_type": "code",
   "execution_count": null,
   "metadata": {},
   "outputs": [],
   "source": [
    "# One can sample from a distribution (callable function) given by samplef and a dict of ranges\n",
    "# This is useful to create a database\n",
    "# For cluster deployment, change the threads argument to the number of available cpu cores\n",
    "samplef = (lambda a,b: np.random.uniform(a,b))\n",
    "args = {\"astro_params\": \n",
    "            {\"NU_X_THRESH\": [400,700], \n",
    "            \"HII_EFF_FACTOR\": [20,40],\n",
    "            \"L_X\": [30,50],\n",
    "            \"ION_Tvir_MIN\": [4,5]},\n",
    "        \"cosmo_params\":\n",
    "            {\"OMm\": [0.1,0.3]},\n",
    "        \"global_params\": \n",
    "            {\"M_WDM\": [1,3]}}\n",
    "sim.run_samplef(nruns=12, args=args, samplef=samplef, threads = 6)"
   ]
  },
  {
   "cell_type": "code",
   "execution_count": null,
   "metadata": {},
   "outputs": [],
   "source": [
    "# Now we visualize the result\n",
    "# Visualize the power spectrum computed in 6 bins\n",
    "sim.plot_ps(bins=6,compare=True)\n",
    "# Plot the global quantities of the simulations\n",
    "sim.plot_global_properties(observational_axis=True)\n",
    "# Plot various fields of the simulation\n",
    "sim.plot_imshow(fields=[\"brightness_temp\",\"xH_box\", \"density\"])\n"
   ]
  },
  {
   "cell_type": "code",
   "execution_count": null,
   "metadata": {},
   "outputs": [],
   "source": [
    "# If a function is unclear, one can always look at the docstring for help\n",
    "sim.plot_ps?"
   ]
  },
  {
   "cell_type": "code",
   "execution_count": null,
   "metadata": {},
   "outputs": [],
   "source": [
    "np.array([1,23,np.NaN]).max()"
   ]
  },
  {
   "cell_type": "code",
   "execution_count": null,
   "metadata": {},
   "outputs": [],
   "source": [
    "import numpy as np"
   ]
  },
  {
   "cell_type": "code",
   "execution_count": null,
   "metadata": {},
   "outputs": [],
   "source": [
    "test = True\n",
    "while test:\n",
    "    print(\"hi :3\")\n",
    "    test = False"
   ]
  },
  {
   "cell_type": "code",
   "execution_count": 12,
   "metadata": {},
   "outputs": [
    {
     "name": "stderr",
     "output_type": "stream",
     "text": [
      "/home/potato/Documents/projects/master/p21cm-venv/lib/python3.11/site-packages/py21cmfast/_utils.py:412: UserWarning: The following parameters to AstroParams are not supported: ['USE_TS_FLUCT']\n",
      "  warnings.warn(\n",
      "/home/potato/Documents/projects/master/p21cm-venv/lib/python3.11/site-packages/py21cmfast/inputs.py:515: UserWarning: The USE_INTERPOLATION_TABLES setting has changed in v3.1.2 to be default True. You can likely ignore this warning, but if you relied onhaving USE_INTERPOLATION_TABLES=False by *default*, please set it explicitly. To silence this warning, set it explicitly to True. Thiswarning will be removed in v4.\n",
      "  warnings.warn(\n"
     ]
    }
   ],
   "source": [
    "import py21cmfast as p21c\n",
    "user_params = p21c.UserParams(\n",
    "    HII_DIM=70, BOX_LEN=200, N_THREADS = 6\n",
    ")\n",
    "astro_params = p21c.AstroParams(\n",
    "    INHOMO_RECO = True, USE_TS_FLUCT = True\n",
    ")\n",
    "lightcone = p21c.run_lightcone(\n",
    "    global_quantities=[\"brightness_temp\"],\n",
    "    direc='_cache',\n",
    "    write=False,\n",
    "    user_params=user_params,\n",
    "    astro_params=astro_params,\n",
    "    redshift=5.5,\n",
    "    max_redshift=20\n",
    ")"
   ]
  },
  {
   "cell_type": "code",
   "execution_count": 2,
   "metadata": {},
   "outputs": [
    {
     "name": "stderr",
     "output_type": "stream",
     "text": [
      "/home/potato/Documents/projects/master/p21cm-venv/lib/python3.11/site-packages/py21cmfast/_cfg.py:58: UserWarning: Your configuration file is out of date. Updating...\n",
      "  warnings.warn(\n",
      "/home/potato/Documents/projects/master/p21cm-venv/lib/python3.11/site-packages/py21cmfast/_cfg.py:42: UserWarning: Your configuration file is out of date. Updating...\n",
      "  warnings.warn(\"Your configuration file is out of date. Updating...\")\n"
     ]
    }
   ],
   "source": [
    "from powerbox import get_power\n",
    "import numpy as np\n",
    "from matplotlib import pyplot as plt\n",
    "import py21cmfast as p21c"
   ]
  },
  {
   "cell_type": "code",
   "execution_count": 24,
   "metadata": {},
   "outputs": [
    {
     "name": "stdout",
     "output_type": "stream",
     "text": [
      "[7.74007234 7.7460052  7.75194411 7.75788905 7.76384004 7.76979703\n",
      " 7.77576011 7.78172925 7.78770454 7.79368582 7.7996732  7.80566676\n",
      " 7.81166634 7.81767212 7.823684   7.82970203 7.83572616 7.84175645\n",
      " 7.84779291 7.85383555 7.8598843  7.86593933 7.87200049 7.87806789\n",
      " 7.88414147 7.8902213  7.89630733 7.90239964 7.90849816 7.91460293\n",
      " 7.92071395 7.9268313  7.93295486 7.93908478 7.94522103 7.95136342\n",
      " 7.95751223 7.9636674  7.9698288  7.97599667 7.98217084 7.9883513\n",
      " 7.99453825 8.00073143 8.00693104 8.01313712 8.01934954 8.02556835\n",
      " 8.03179359 8.03802529 8.04426345 8.05050797 8.05675902 8.06301655\n",
      " 8.06928047 8.07555095 8.08182784 8.0881113  8.09440128 8.10069772\n",
      " 8.10700075 8.11331023 8.11962634 8.12594895 8.13227818 8.13861387\n",
      " 8.14495622 8.15130519 8.15766071 8.16402284 8.17039164 8.17676703\n",
      " 8.18314908 8.18953774 8.1959331  8.20233507 8.20874373 8.21515908\n",
      " 8.22158118 8.22800988 8.23444538 8.24088751 8.24733642 8.25379214\n",
      " 8.26025446]\n",
      "1.8181818181818181\n"
     ]
    }
   ],
   "source": [
    "lc = p21c.outputs.LightCone.read(\"../data/res_comp/110_res_False_.h5\")\n",
    "# choose the right boundaries such that it maches the redshift interval\n",
    "bottom, top = 470, 555\n",
    "print(lc.lightcone_redshifts[bottom:top])\n",
    "print(lc.cell_size)"
   ]
  },
  {
   "cell_type": "markdown",
   "metadata": {},
   "source": []
  },
  {
   "cell_type": "code",
   "execution_count": 28,
   "metadata": {},
   "outputs": [],
   "source": [
    "def ps2d(data, size, **kwargs):\n",
    "    #size = data.shape\n",
    "    ps_perp,k_perp, _ = get_power(data, boxlength=size, res_ndim=2,\n",
    "                                  ignore_zero_mode=True, bin_ave=True, **kwargs) \n",
    "    ps_par, k_par, _ = get_power(data.T, boxlength=size, res_ndim=1,  \n",
    "                                 ignore_zero_mode=True, bin_ave=True, **kwargs)\n",
    "    ps_perp = np.mean(ps_perp,axis=1)\n",
    "    ps_par = np.mean(ps_par, axis=(1,2))\n",
    "    v = np.prod(size)\n",
    "    ps = np.outer(ps_par*k_par, ps_perp*k_perp**2)\n",
    "    return k_perp, k_par, ps"
   ]
  },
  {
   "cell_type": "code",
   "execution_count": 29,
   "metadata": {},
   "outputs": [],
   "source": [
    "k_perp, k_par, ps = ps2d(lc.brightness_temp[:,:,bottom:top],\n",
    "                         lc.cell_size*np.array([*lc.brightness_temp.shape[:2], top-bottom]))"
   ]
  },
  {
   "cell_type": "code",
   "execution_count": 30,
   "metadata": {},
   "outputs": [
    {
     "data": {
      "image/png": "[encoded data removed]",
      "text/plain": [
       "<Figure size 640x480 with 2 Axes>"
      ]
     },
     "metadata": {},
     "output_type": "display_data"
    }
   ],
   "source": [
    "fig, ax = plt.subplots()\n",
    "ax_img = ax.imshow(ps[::-1,:], )\n",
    "dim_y, dim_x = ps.shape\n",
    "num_y, num_x = (dim_y // 5, dim_x // 5)\n",
    "ax.set_yticks(np.linspace(0,dim_y-0.5,num_y), np.round(np.linspace(k_perp.min(), k_perp.max(), num_y)[::-1], 2))\n",
    "ax.set_xticks(np.linspace(0, dim_x-0.5, num_x),  np.round(np.linspace(k_par.min(), k_par.max(), num_x),2))\n",
    "ax.set_xlabel(r\"$k_\\perp$\")\n",
    "ax.set_ylabel(r\"$k_{||}$\")\n",
    "ax.set_title(\"2D power spectrum\")\n",
    "plt.colorbar(ax_img, ax=ax, label=r\"$\\delta \\bar{T}_b^2 \\Delta^2_{21}(k_\\perp, k_{||}, z)$\")\n",
    "\n",
    "fig.tight_layout()\n",
    "fig.savefig(\"./ps.jpg\", dpi=300)"
   ]
  },
  {
   "cell_type": "code",
   "execution_count": 3,
   "metadata": {},
   "outputs": [],
   "source": [
    "quantity = 111\n",
    "threads = 13\n",
    "\n",
    "def generate_ids(quantity, threads):\n",
    "    counter = quantity\n",
    "    while counter > 0:\n",
    "        counter -= threads\n",
    "        if counter > 0:\n",
    "            yield np.linspace(quantity - (counter + threads),  quantity-counter-1, threads, dtype=int)\n",
    "        else:\n",
    "            yield np.linspace(quantity - (counter + threads),  quantity - 1, threads + counter, dtype=int)\n",
    "        "
   ]
  },
  {
   "cell_type": "code",
   "execution_count": 5,
   "metadata": {},
   "outputs": [
    {
     "ename": "NameError",
     "evalue": "name 'generate_ids' is not defined",
     "output_type": "error",
     "traceback": [
      "\u001b[0;31m---------------------------------------------------------------------------\u001b[0m",
      "\u001b[0;31mNameError\u001b[0m                                 Traceback (most recent call last)",
      "Cell \u001b[0;32mIn[5], line 1\u001b[0m\n\u001b[0;32m----> 1\u001b[0m \u001b[38;5;28;01mfor\u001b[39;00m i \u001b[38;5;129;01min\u001b[39;00m \u001b[43mgenerate_ids\u001b[49m(quantity, threads):\n\u001b[1;32m      2\u001b[0m     \u001b[38;5;28mprint\u001b[39m(i)\n",
      "\u001b[0;31mNameError\u001b[0m: name 'generate_ids' is not defined"
     ]
    }
   ],
   "source": [
    "for i in generate_ids(quantity, threads):\n",
    "    print(i)"
   ]
  },
  {
   "cell_type": "markdown",
   "metadata": {},
   "source": []
  },
  {
   "cell_type": "code",
   "execution_count": 1,
   "metadata": {},
   "outputs": [
    {
     "name": "stderr",
     "output_type": "stream",
     "text": [
      "/home/potato/Documents/projects/master/p21cm-venv/lib/python3.11/site-packages/py21cmfast/_cfg.py:58: UserWarning: Your configuration file is out of date. Updating...\n",
      "  warnings.warn(\n",
      "/home/potato/Documents/projects/master/p21cm-venv/lib/python3.11/site-packages/py21cmfast/_cfg.py:42: UserWarning: Your configuration file is out of date. Updating...\n",
      "  warnings.warn(\"Your configuration file is out of date. Updating...\")\n"
     ]
    }
   ],
   "source": [
    "from Leaf import *"
   ]
  },
  {
   "cell_type": "code",
   "execution_count": 1,
   "metadata": {},
   "outputs": [
    {
     "name": "stderr",
     "output_type": "stream",
     "text": [
      "/home/potato/Documents/projects/master/p21cm-venv/lib/python3.11/site-packages/py21cmfast/_cfg.py:58: UserWarning: Your configuration file is out of date. Updating...\n",
      "  warnings.warn(\n",
      "/home/potato/Documents/projects/master/p21cm-venv/lib/python3.11/site-packages/py21cmfast/_cfg.py:42: UserWarning: Your configuration file is out of date. Updating...\n",
      "  warnings.warn(\"Your configuration file is out of date. Updating...\")\n"
     ]
    }
   ],
   "source": [
    "import py21cmfast as p21c"
   ]
  },
  {
   "cell_type": "code",
   "execution_count": 5,
   "metadata": {},
   "outputs": [
    {
     "name": "stdout",
     "output_type": "stream",
     "text": [
      "UserParams:\n",
      "    BOX_LEN                 : 300.0\n",
      "    DIM                     : 600\n",
      "    FAST_FCOLL_TABLES       : False\n",
      "    HII_DIM                 : 200\n",
      "    HMF                     : 1\n",
      "    KEEP_3D_VELOCITIES      : False\n",
      "    MINIMIZE_MEMORY         : False\n",
      "    NON_CUBIC_FACTOR        : 1.0\n",
      "    NO_RNG                  : False\n",
      "    N_THREADS               : 1\n",
      "    PERTURB_ON_HIGH_RES     : False\n",
      "    POWER_SPECTRUM          : 0\n",
      "    USE_2LPT                : True\n",
      "    USE_FFTW_WISDOM         : False\n",
      "    USE_INTERPOLATION_TABLES: True\n",
      "    USE_RELATIVE_VELOCITIES : False\n",
      "    \n",
      "UserParams:\n",
      "    BOX_LEN                 : 300.0\n",
      "    DIM                     : 600\n",
      "    FAST_FCOLL_TABLES       : False\n",
      "    HII_DIM                 : 200\n",
      "    HMF                     : 1\n",
      "    KEEP_3D_VELOCITIES      : False\n",
      "    MINIMIZE_MEMORY         : False\n",
      "    NON_CUBIC_FACTOR        : 1.0\n",
      "    NO_RNG                  : False\n",
      "    N_THREADS               : 1\n",
      "    PERTURB_ON_HIGH_RES     : False\n",
      "    POWER_SPECTRUM          : 0\n",
      "    USE_2LPT                : True\n",
      "    USE_FFTW_WISDOM         : False\n",
      "    USE_INTERPOLATION_TABLES: True\n",
      "    USE_RELATIVE_VELOCITIES : False\n",
      "    \n"
     ]
    },
    {
     "name": "stderr",
     "output_type": "stream",
     "text": [
      "/home/potato/Documents/projects/master/p21cm-venv/lib/python3.11/site-packages/py21cmfast/inputs.py:515: UserWarning: The USE_INTERPOLATION_TABLES setting has changed in v3.1.2 to be default True. You can likely ignore this warning, but if you relied onhaving USE_INTERPOLATION_TABLES=False by *default*, please set it explicitly. To silence this warning, set it explicitly to True. Thiswarning will be removed in v4.\n",
      "  warnings.warn(\n"
     ]
    }
   ],
   "source": [
    "up = p21c.inputs.UserParams()\n",
    "print(up)\n",
    "up.update(**{})\n",
    "print(up)"
   ]
  },
  {
   "cell_type": "code",
   "execution_count": 90,
   "metadata": {},
   "outputs": [
    {
     "name": "stdout",
     "output_type": "stream",
     "text": [
      "Define global parameters...\n"
     ]
    }
   ],
   "source": [
    "un_lcsampling(self, samplef: Callable, redshift: float, save: bool = True, random_seed: int = None, \n",
    "                sanity_check: bool = True, make_statistics: bool = True, filter: bool = True,\n",
    "                override: bool = False, threads: int = 1, mpi: bool = False, quantity: int = 1,\n",
    "                astro_params_range: dict = None, cosmo_params_range: dict = None, user_params_range: dict = None,\n",
    "                flag_options_range = None, global_params_range: dict = None)\n",
    "\n"
   ]
  },
  {
   "cell_type": "code",
   "execution_count": 2,
   "metadata": {},
   "outputs": [
    {
     "name": "stdout",
     "output_type": "stream",
     "text": [
      "Set initial parameters...\n"
     ]
    }
   ],
   "source": [
    "from Leaf import *\n",
    "user_parameter = {\n",
    "    \"HII_DIM\": 140,\n",
    "    \"BOX_LEN\": 200,\n",
    "}\n",
    "flag_options = {\n",
    "    \"INHOMO_RECO\": False,\n",
    "    \"USE_TS_FLUCT\": False\n",
    "}\n",
    "\n",
    "sim = Leaf(user_params=user_parameter, flag_options=flag_options, debug=True)\n",
    "\n",
    "astro_params_range = {\n",
    "    \"L_X\": [39.42, 39.84],\n",
    "    \"HII_EFF_FACTOR\": [29,29.5]\n",
    "\n",
    "}\n",
    "\n",
    "\n",
    "\n",
    "\n",
    "\n",
    "#if __name__ == '__main__':\n",
    "#    sim.run_lcsampling(samplef=sim.uniform, redshift=5.5, save=True, threads=2, quantity=4,\n",
    "#                    astro_params_range=astro_params_range)"
   ]
  },
  {
   "cell_type": "code",
   "execution_count": 5,
   "metadata": {},
   "outputs": [
    {
     "name": "stdout",
     "output_type": "stream",
     "text": [
      "Begin lightcone simulation ...\n",
      "Parameter successfully refreshed.\n",
      "Current parameters are:\n",
      "astro_params: AstroParams:\n",
      "    ALPHA_ESC       : -0.5\n",
      "    ALPHA_STAR      : 0.5\n",
      "    ALPHA_STAR_MINI : 0.5\n",
      "    A_LW            : 2.0\n",
      "    A_VCB           : 1.0\n",
      "    BETA_LW         : 0.6\n",
      "    BETA_VCB        : 1.8\n",
      "    F_ESC10         : 0.1\n",
      "    F_ESC7_MINI     : 0.01\n",
      "    F_H2_SHIELD     : 0.0\n",
      "    F_STAR10        : 0.05011872336272722\n",
      "    F_STAR7_MINI    : 0.01\n",
      "    HII_EFF_FACTOR  : 30.0\n",
      "    ION_Tvir_MIN    : 49999.9995007974\n",
      "    L_X             : 1e+40\n",
      "    L_X_MINI        : 1e+40\n",
      "    M_TURN          : 501187233.6272715\n",
      "    NU_X_THRESH     : 500.0\n",
      "    N_RSD_STEPS     : 20\n",
      "    R_BUBBLE_MAX    : 15.0\n",
      "    X_RAY_SPEC_INDEX: 1.0\n",
      "    X_RAY_Tvir_MIN  : 49999.9995007974\n",
      "    t_STAR          : 0.5\n",
      "    \n",
      "cosmo_params: CosmoParams:\n",
      "    OMb        : 0.04897468161869667\n",
      "    OMm        : 0.30964144154550644\n",
      "    POWER_INDEX: 0.9665\n",
      "    SIGMA_8    : 0.8102\n",
      "    hlittle    : 0.6766\n",
      "    \n",
      "user_params: UserParams:\n",
      "    BOX_LEN                 : 100\n",
      "    DIM                     : 90\n",
      "    FAST_FCOLL_TABLES       : False\n",
      "    HII_DIM                 : 30\n",
      "    HMF                     : 1\n",
      "    KEEP_3D_VELOCITIES      : False\n",
      "    MINIMIZE_MEMORY         : False\n",
      "    NON_CUBIC_FACTOR        : 1.0\n",
      "    NO_RNG                  : False\n",
      "    N_THREADS               : 1\n",
      "    PERTURB_ON_HIGH_RES     : False\n",
      "    POWER_SPECTRUM          : 0\n",
      "    USE_2LPT                : True\n",
      "    USE_FFTW_WISDOM         : False\n",
      "    USE_INTERPOLATION_TABLES: True\n",
      "    USE_RELATIVE_VELOCITIES : False\n",
      "    \n",
      "flag_options: FlagOptions:\n",
      "    APPLY_RSDS             : True\n",
      "    FIX_VCB_AVG            : False\n",
      "    INHOMO_RECO            : False\n",
      "    M_MIN_in_Mass          : False\n",
      "    PHOTON_CONS            : False\n",
      "    SUBCELL_RSD            : False\n",
      "    USE_CMB_HEATING        : True\n",
      "    USE_HALO_FIELD         : False\n",
      "    USE_LYA_HEATING        : True\n",
      "    USE_MASS_DEPENDENT_ZETA: False\n",
      "    USE_MINI_HALOS         : False\n",
      "    USE_TS_FLUCT           : False\n",
      "    \n",
      "global_params: {}\n"
     ]
    },
    {
     "name": "stderr",
     "output_type": "stream",
     "text": [
      "/home/potato/Documents/projects/master/p21cm-venv/lib/python3.11/site-packages/py21cmfast/inputs.py:515: UserWarning: The USE_INTERPOLATION_TABLES setting has changed in v3.1.2 to be default True. You can likely ignore this warning, but if you relied onhaving USE_INTERPOLATION_TABLES=False by *default*, please set it explicitly. To silence this warning, set it explicitly to True. Thiswarning will be removed in v4.\n",
      "  warnings.warn(\n"
     ]
    },
    {
     "name": "stdout",
     "output_type": "stream",
     "text": [
      "Done simulating. Do sanity check...\n",
      "Sanity check passed. Write statistics...\n",
      "Statistics written. Do filtering...\n",
      "Filtering passed. Save or return file now.\n"
     ]
    }
   ],
   "source": [
    "blub = sim.run_lightcone(redshift=5.5, filter_peculiar=False, save=False, random_seed=42)\n",
    "blub_right = sim.run_lightcone(redshift=5.5, filter_peculiar=False, save=False, random_seed=42, astro_params={\"INHOMO_RECO\": True})"
   ]
  },
  {
   "cell_type": "code",
   "execution_count": 7,
   "metadata": {},
   "outputs": [
    {
     "data": {
      "text/plain": [
       "False"
      ]
     },
     "execution_count": 7,
     "metadata": {},
     "output_type": "execute_result"
    }
   ],
   "source": [
    "blub.astro_params.INHOMO_RECO"
   ]
  },
  {
   "cell_type": "code",
   "execution_count": 1,
   "metadata": {},
   "outputs": [
    {
     "name": "stdout",
     "output_type": "stream",
     "text": [
      "\u001b[0;31mInit signature:\u001b[0m \u001b[0mfilter\u001b[0m\u001b[0;34m(\u001b[0m\u001b[0mself\u001b[0m\u001b[0;34m,\u001b[0m \u001b[0;34m/\u001b[0m\u001b[0;34m,\u001b[0m \u001b[0;34m*\u001b[0m\u001b[0margs\u001b[0m\u001b[0;34m,\u001b[0m \u001b[0;34m**\u001b[0m\u001b[0mkwargs\u001b[0m\u001b[0;34m)\u001b[0m\u001b[0;34m\u001b[0m\u001b[0;34m\u001b[0m\u001b[0m\n",
      "\u001b[0;31mDocstring:\u001b[0m     \n",
      "filter(function or None, iterable) --> filter object\n",
      "\n",
      "Return an iterator yielding those items of iterable for which function(item)\n",
      "is true. If function is None, return the items that are true.\n",
      "\u001b[0;31mType:\u001b[0m           type\n",
      "\u001b[0;31mSubclasses:\u001b[0m     "
     ]
    }
   ],
   "source": [
    "filter?"
   ]
  },
  {
   "cell_type": "code",
   "execution_count": 3,
   "metadata": {},
   "outputs": [],
   "source": [
    "import py21cmfast as p21c"
   ]
  },
  {
   "cell_type": "code",
   "execution_count": 4,
   "metadata": {},
   "outputs": [
    {
     "name": "stdout",
     "output_type": "stream",
     "text": [
      "\u001b[0;31mSignature:\u001b[0m\n",
      "\u001b[0mp21c\u001b[0m\u001b[0;34m.\u001b[0m\u001b[0mcompute_tau\u001b[0m\u001b[0;34m(\u001b[0m\u001b[0;34m\u001b[0m\n",
      "\u001b[0;34m\u001b[0m    \u001b[0;34m*\u001b[0m\u001b[0;34m,\u001b[0m\u001b[0;34m\u001b[0m\n",
      "\u001b[0;34m\u001b[0m    \u001b[0mredshifts\u001b[0m\u001b[0;34m,\u001b[0m\u001b[0;34m\u001b[0m\n",
      "\u001b[0;34m\u001b[0m    \u001b[0mglobal_xHI\u001b[0m\u001b[0;34m,\u001b[0m\u001b[0;34m\u001b[0m\n",
      "\u001b[0;34m\u001b[0m    \u001b[0muser_params\u001b[0m\u001b[0;34m=\u001b[0m\u001b[0;32mNone\u001b[0m\u001b[0;34m,\u001b[0m\u001b[0;34m\u001b[0m\n",
      "\u001b[0;34m\u001b[0m    \u001b[0mcosmo_params\u001b[0m\u001b[0;34m=\u001b[0m\u001b[0;32mNone\u001b[0m\u001b[0;34m,\u001b[0m\u001b[0;34m\u001b[0m\n",
      "\u001b[0;34m\u001b[0m\u001b[0;34m)\u001b[0m\u001b[0;34m\u001b[0m\u001b[0;34m\u001b[0m\u001b[0m\n",
      "\u001b[0;31mDocstring:\u001b[0m\n",
      "Compute the optical depth to reionization under the given model.\n",
      "\n",
      "Parameters\n",
      "----------\n",
      "redshifts : array-like\n",
      "    Redshifts defining an evolution of the neutral fraction.\n",
      "global_xHI : array-like\n",
      "    The mean neutral fraction at `redshifts`.\n",
      "user_params : :class:`~inputs.UserParams`\n",
      "    Parameters defining the simulation run.\n",
      "cosmo_params : :class:`~inputs.CosmoParams`\n",
      "    Cosmological parameters.\n",
      "\n",
      "Returns\n",
      "-------\n",
      "tau : float\n",
      "    The optional depth to reionization\n",
      "\n",
      "Raises\n",
      "------\n",
      "ValueError :\n",
      "    If `redshifts` and `global_xHI` have inconsistent length or if redshifts are not\n",
      "    in ascending order.\n",
      "\u001b[0;31mFile:\u001b[0m      ~/Documents/projects/master/p21cm-venv/lib/python3.11/site-packages/py21cmfast/wrapper.py\n",
      "\u001b[0;31mType:\u001b[0m      function"
     ]
    }
   ],
   "source": [
    "p21c.compute_tau?"
   ]
  },
  {
   "cell_type": "code",
   "execution_count": null,
   "metadata": {},
   "outputs": [],
   "source": []
  }
 ],
 "metadata": {
  "kernelspec": {
   "display_name": "Python 3",
   "language": "python",
   "name": "python3"
  },
  "language_info": {
   "codemirror_mode": {
    "name": "ipython",
    "version": 3
   },
   "file_extension": ".py",
   "mimetype": "text/x-python",
   "name": "python",
   "nbconvert_exporter": "python",
   "pygments_lexer": "ipython3",
   "version": "3.11.0rc1"
  }
 },
 "nbformat": 4,
 "nbformat_minor": 2
}
