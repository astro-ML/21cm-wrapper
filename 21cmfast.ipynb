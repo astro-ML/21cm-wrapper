{
 "cells": [
  {
   "cell_type": "code",
   "execution_count": 3,
   "metadata": {},
   "outputs": [
    {
     "ename": "TypeError",
     "evalue": "module() takes at most 2 arguments (3 given)",
     "output_type": "error",
     "traceback": [
      "\u001b[0;31m---------------------------------------------------------------------------\u001b[0m",
      "\u001b[0;31mTypeError\u001b[0m                                 Traceback (most recent call last)",
      "Cell \u001b[0;32mIn[3], line 2\u001b[0m\n\u001b[1;32m      1\u001b[0m \u001b[38;5;66;03m# import the wrapper\u001b[39;00m\n\u001b[0;32m----> 2\u001b[0m \u001b[38;5;28;01mfrom\u001b[39;00m \u001b[38;5;21;01mp21cmfastwrapper\u001b[39;00m \u001b[38;5;28;01mimport\u001b[39;00m \u001b[38;5;241m*\u001b[39m\n",
      "File \u001b[0;32m~/Documents/projects/master/21cm-wrapper/p21cmfastwrapper.py:470\u001b[0m\n\u001b[1;32m    452\u001b[0m         \u001b[38;5;28mprint\u001b[39m(\u001b[38;5;124mf\u001b[39m\u001b[38;5;124m\"\u001b[39m\u001b[38;5;124mDone, \u001b[39m\u001b[38;5;132;01m{\u001b[39;00m\u001b[38;5;28mlen\u001b[39m(nan_counter)\u001b[38;5;132;01m}\u001b[39;00m\u001b[38;5;124m NaNs encountered in \u001b[39m\u001b[38;5;130;01m\\n\u001b[39;00m\u001b[38;5;132;01m{\u001b[39;00mnan_counter\u001b[38;5;132;01m}\u001b[39;00m\u001b[38;5;124m\"\u001b[39m)   \n\u001b[1;32m    455\u001b[0m \u001b[38;5;124;03m\"\"\"\u001b[39;00m\n\u001b[1;32m    456\u001b[0m \u001b[38;5;124;03m    def load(self, name):\u001b[39;00m\n\u001b[1;32m    457\u001b[0m \u001b[38;5;124;03m        with open(name, 'rb') as f:\u001b[39;00m\n\u001b[0;32m   (...)\u001b[0m\n\u001b[1;32m    465\u001b[0m \u001b[38;5;124;03m        self.data.clear()\u001b[39;00m\n\u001b[1;32m    466\u001b[0m \u001b[38;5;124;03m\"\"\"\u001b[39;00m     \n\u001b[0;32m--> 470\u001b[0m \u001b[38;5;28;43;01mclass\u001b[39;49;00m\u001b[43m \u001b[49m\u001b[38;5;21;43;01mLeaf\u001b[39;49;00m\u001b[43m(\u001b[49m\u001b[43mp21c\u001b[49m\u001b[43m)\u001b[49m\u001b[43m:\u001b[49m\n\u001b[1;32m    471\u001b[0m \u001b[43m    \u001b[49m\u001b[38;5;28;43;01mdef\u001b[39;49;00m\u001b[43m \u001b[49m\u001b[38;5;21;43m__init__\u001b[39;49m\u001b[43m(\u001b[49m\u001b[38;5;28;43mself\u001b[39;49m\u001b[43m,\u001b[49m\u001b[43m \u001b[49m\u001b[43mdata_path\u001b[49m\u001b[43m:\u001b[49m\u001b[43m \u001b[49m\u001b[38;5;28;43mstr\u001b[39;49m\u001b[43m \u001b[49m\u001b[38;5;241;43m=\u001b[39;49m\u001b[43m \u001b[49m\u001b[38;5;124;43m\"\u001b[39;49m\u001b[38;5;124;43m./data/\u001b[39;49m\u001b[38;5;124;43m\"\u001b[39;49m\u001b[43m,\u001b[49m\u001b[43m \u001b[49m\u001b[43mdata_prefix\u001b[49m\u001b[43m:\u001b[49m\u001b[43m \u001b[49m\u001b[38;5;28;43mstr\u001b[39;49m\u001b[43m \u001b[49m\u001b[38;5;241;43m=\u001b[39;49m\u001b[43m \u001b[49m\u001b[38;5;124;43m\"\u001b[39;49m\u001b[38;5;124;43msimrun_\u001b[39;49m\u001b[38;5;124;43m\"\u001b[39;49m\u001b[43m,\u001b[49m\u001b[43m \u001b[49m\u001b[43mparameter_file\u001b[49m\u001b[43m:\u001b[49m\u001b[43m \u001b[49m\u001b[38;5;28;43mstr\u001b[39;49m\u001b[43m \u001b[49m\u001b[38;5;241;43m=\u001b[39;49m\u001b[43m \u001b[49m\u001b[38;5;28;43;01mNone\u001b[39;49;00m\u001b[43m,\u001b[49m\u001b[43m \u001b[49m\n\u001b[1;32m    472\u001b[0m \u001b[43m                 \u001b[49m\u001b[43mwrite_cache\u001b[49m\u001b[43m:\u001b[49m\u001b[43m \u001b[49m\u001b[38;5;28;43mbool\u001b[39;49m\u001b[43m \u001b[49m\u001b[38;5;241;43m=\u001b[39;49m\u001b[43m \u001b[49m\u001b[38;5;28;43;01mFalse\u001b[39;49;00m\u001b[43m,\u001b[49m\u001b[43m \u001b[49m\u001b[43mdebug\u001b[49m\u001b[43m:\u001b[49m\u001b[43m \u001b[49m\u001b[38;5;28;43mbool\u001b[39;49m\u001b[43m \u001b[49m\u001b[38;5;241;43m=\u001b[39;49m\u001b[43m \u001b[49m\u001b[38;5;28;43;01mFalse\u001b[39;49;00m\u001b[43m)\u001b[49m\u001b[43m:\u001b[49m\n\u001b[1;32m    473\u001b[0m \u001b[38;5;250;43m        \u001b[39;49m\u001b[38;5;124;43;03m\"\"\"\u001b[39;49;00m\n\u001b[1;32m    474\u001b[0m \u001b[38;5;124;43;03m        Initializes the Leaf class with specified parameters.\u001b[39;49;00m\n\u001b[1;32m    475\u001b[0m \n\u001b[0;32m   (...)\u001b[0m\n\u001b[1;32m    487\u001b[0m \u001b[38;5;124;43;03m            debug (bool): If True, enables verbose output to help identify errors. Default is False.\u001b[39;49;00m\n\u001b[1;32m    488\u001b[0m \u001b[38;5;124;43;03m        \"\"\"\u001b[39;49;00m\n",
      "\u001b[0;31mTypeError\u001b[0m: module() takes at most 2 arguments (3 given)"
     ]
    }
   ],
   "source": [
    "# import the wrapper\n",
    "from p21cmfastwrapper import *"
   ]
  },
  {
   "cell_type": "markdown",
   "metadata": {},
   "source": []
  },
  {
   "cell_type": "code",
   "execution_count": 7,
   "metadata": {},
   "outputs": [
    {
     "name": "stdout",
     "output_type": "stream",
     "text": [
      "use astro_params default config: True\n",
      "use cosmo_params default config: True\n",
      "use user_params default config: False\n",
      "use flag_options default config: False\n",
      "use global_params default config: True\n",
      "./data/ run_* 1 ['run_0']\n",
      "Using 21cmFAST version 0.1.dev1836+gf7c01bf\n"
     ]
    },
    {
     "data": {
      "text/plain": [
       "'save_inclass (bool): If set true, results are saved as a list in the class, very useful for testing and quick analysis. If False, results are saved as a file\\nsave_ondisk (bool): If set True, save results on disk\\nwrite_cache (bool): If true, use the included 21cmfast cache, useful when doing repeated simulations with same seed and init conditions.\\ndata_path (str): path for saving the results of save_ondisk is True\\nfile_name (str): filename for the runs, final name will be: filename + run_id + .h5\\noverride (bool): If True, old runs will be overridden\\ndebug (bool): Print many things along the way if something is screwed again.'"
      ]
     },
     "execution_count": 7,
     "metadata": {},
     "output_type": "execute_result"
    }
   ],
   "source": [
    "# The wrapper uses a parameter file to initialize the simulation for better overview\n",
    "# One can initialize the class by\n",
    "sim = Simulation(save_ondisk=False, write_cache=False, save_inclass=True, debug=True)\n",
    "# important arguments for initializing the Simulation class are:\n",
    "'''save_inclass (bool): If set true, results are saved as a list in the class, very useful for testing and quick analysis. If False, results are saved as a file\n",
    "save_ondisk (bool): If set True, save results on disk\n",
    "write_cache (bool): If true, use the included 21cmfast cache, useful when doing repeated simulations with same seed and init conditions.\n",
    "data_path (str): path for saving the results of save_ondisk is True\n",
    "file_name (str): filename for the runs, final name will be: filename + run_id + .h5\n",
    "override (bool): If True, old runs will be overridden\n",
    "debug (bool): Print many things along the way if something is screwed again.'''"
   ]
  },
  {
   "cell_type": "code",
   "execution_count": 3,
   "metadata": {},
   "outputs": [],
   "source": [
    "# To just run a single box using the parameters one can just \n",
    "sim.run_box()"
   ]
  },
  {
   "cell_type": "code",
   "execution_count": 8,
   "metadata": {},
   "outputs": [],
   "source": [
    "# To simulate a lightcone, one can do\n",
    "sim.run_cone()\n",
    "# Now we clear the cached simulations for the next step\n",
    "#sim.clear()"
   ]
  },
  {
   "cell_type": "code",
   "execution_count": null,
   "metadata": {},
   "outputs": [],
   "source": [
    "# All parameters can be changed on the fly without re-initializing the class, e.g.\n",
    "params = {\"redshift\": 8, \"max_redshift\": 12, \"random_seed\": 1, \"astro_params\": {\"HII_EFF_FACTOR\": 29}} \n",
    "# Note: It is important to preserve the dict structure defined in parameter.yaml for in-situ changes in parameters\n",
    "# This dict needs to be passed as an argument to the wrapper\n",
    "sim.run_lightcone(kargs=params)"
   ]
  },
  {
   "cell_type": "code",
   "execution_count": null,
   "metadata": {},
   "outputs": [],
   "source": [
    "# One can also do multiple runs with different parameters, e.g. we want two realizations of two HII_EFF_FACTORs\n",
    "params = {\"random_seed\": [1,2], \"astro_params\": {\"HII_EFF_FACTOR\": [29,31]}}\n",
    "sim.run_fixed_multi_lightcone(rargs=params)\n",
    "# The result will be four simulations stored in the class"
   ]
  },
  {
   "cell_type": "code",
   "execution_count": null,
   "metadata": {},
   "outputs": [],
   "source": [
    "# One can sample from a distribution (callable function) given by samplef and a dict of ranges\n",
    "# This is useful to create a database\n",
    "# For cluster deployment, change the threads argument to the number of available cpu cores\n",
    "samplef = (lambda a,b: np.random.uniform(a,b))\n",
    "args = {\"astro_params\": \n",
    "            {\"NU_X_THRESH\": [400,700], \n",
    "            \"HII_EFF_FACTOR\": [20,40],\n",
    "            \"L_X\": [30,50],\n",
    "            \"ION_Tvir_MIN\": [4,5]},\n",
    "        \"cosmo_params\":\n",
    "            {\"OMm\": [0.1,0.3]},\n",
    "        \"global_params\": \n",
    "            {\"M_WDM\": [1,3]}}\n",
    "sim.run_samplef(nruns=12, args=args, samplef=samplef, threads = 6)"
   ]
  },
  {
   "cell_type": "code",
   "execution_count": null,
   "metadata": {},
   "outputs": [],
   "source": [
    "# Now we visualize the result\n",
    "# Visualize the power spectrum computed in 6 bins\n",
    "sim.plot_ps(bins=6,compare=True)\n",
    "# Plot the global quantities of the simulations\n",
    "sim.plot_global_properties(observational_axis=True)\n",
    "# Plot various fields of the simulation\n",
    "sim.plot_imshow(fields=[\"brightness_temp\",\"xH_box\", \"density\"])"
   ]
  },
  {
   "cell_type": "code",
   "execution_count": null,
   "metadata": {},
   "outputs": [],
   "source": [
    "# If a function is unclear, one can always look at the docstring for help\n",
    "sim.plot_ps?"
   ]
  },
  {
   "cell_type": "code",
   "execution_count": null,
   "metadata": {},
   "outputs": [],
   "source": [
    "np.array([1,23,np.NaN]).max()"
   ]
  },
  {
   "cell_type": "code",
   "execution_count": null,
   "metadata": {},
   "outputs": [],
   "source": [
    "import numpy as np"
   ]
  },
  {
   "cell_type": "code",
   "execution_count": null,
   "metadata": {},
   "outputs": [],
   "source": [
    "test = True\n",
    "while test:\n",
    "    print(\"hi :3\")\n",
    "    test = False"
   ]
  },
  {
   "cell_type": "code",
   "execution_count": 12,
   "metadata": {},
   "outputs": [
    {
     "name": "stderr",
     "output_type": "stream",
     "text": [
      "/home/potato/Documents/projects/master/p21cm-venv/lib/python3.11/site-packages/py21cmfast/_utils.py:412: UserWarning: The following parameters to AstroParams are not supported: ['USE_TS_FLUCT']\n",
      "  warnings.warn(\n",
      "/home/potato/Documents/projects/master/p21cm-venv/lib/python3.11/site-packages/py21cmfast/inputs.py:515: UserWarning: The USE_INTERPOLATION_TABLES setting has changed in v3.1.2 to be default True. You can likely ignore this warning, but if you relied onhaving USE_INTERPOLATION_TABLES=False by *default*, please set it explicitly. To silence this warning, set it explicitly to True. Thiswarning will be removed in v4.\n",
      "  warnings.warn(\n"
     ]
    }
   ],
   "source": [
    "import py21cmfast as p21c\n",
    "user_params = p21c.UserParams(\n",
    "    HII_DIM=70, BOX_LEN=200, N_THREADS = 6\n",
    ")\n",
    "astro_params = p21c.AstroParams(\n",
    "    INHOMO_RECO = True, USE_TS_FLUCT = True\n",
    ")\n",
    "lightcone = p21c.run_lightcone(\n",
    "    global_quantities=[\"brightness_temp\"],\n",
    "    direc='_cache',\n",
    "    write=False,\n",
    "    user_params=user_params,\n",
    "    astro_params=astro_params,\n",
    "    redshift=5.5,\n",
    "    max_redshift=20\n",
    ")"
   ]
  },
  {
   "cell_type": "code",
   "execution_count": 4,
   "metadata": {},
   "outputs": [
    {
     "name": "stderr",
     "output_type": "stream",
     "text": [
      "/home/potato/Documents/projects/master/p21cm-venv/lib/python3.11/site-packages/py21cmfast/_cfg.py:58: UserWarning: Your configuration file is out of date. Updating...\n",
      "  warnings.warn(\n",
      "/home/potato/Documents/projects/master/p21cm-venv/lib/python3.11/site-packages/py21cmfast/_cfg.py:42: UserWarning: Your configuration file is out of date. Updating...\n",
      "  warnings.warn(\"Your configuration file is out of date. Updating...\")\n"
     ]
    }
   ],
   "source": [
    "from powerbox import get_power\n",
    "import numpy as np\n",
    "from matplotlib import pyplot as plt\n",
    "import py21cmfast as p21c"
   ]
  },
  {
   "cell_type": "code",
   "execution_count": 14,
   "metadata": {},
   "outputs": [
    {
     "data": {
      "text/plain": [
       "1.8181818181818181"
      ]
     },
     "execution_count": 14,
     "metadata": {},
     "output_type": "execute_result"
    }
   ],
   "source": [
    "lc = p21c.outputs.LightCone.read(\"../data/res_comp/110_res_False_.h5\")\n",
    "# lc.lightcone_redshifts[800:850]\n",
    "lc.cell_size"
   ]
  },
  {
   "cell_type": "markdown",
   "metadata": {},
   "source": []
  },
  {
   "cell_type": "code",
   "execution_count": 6,
   "metadata": {},
   "outputs": [],
   "source": [
    "def ps2d(data, size):\n",
    "    #size = data.shape\n",
    "    ps_perp,k_perp, _ = get_power(data, boxlength=size, res_ndim=2, bins = 20, \n",
    "                                  ignore_zero_mode=True, bin_ave=True) \n",
    "    ps_par, k_par, _ = get_power(data.T, boxlength=size, res_ndim=1, bins = 15, \n",
    "                                 ignore_zero_mode=True, bin_ave=True)\n",
    "    ps_perp = np.mean(ps_perp,axis=1)\n",
    "    ps_par = np.mean(ps_par, axis=(1,2))\n",
    "    v = np.prod(size)\n",
    "    ps = np.outer(ps_perp*k_perp**2, ps_par*k_par)/(2*np.pi**2*v)\n",
    "    return k_perp, k_par, ps"
   ]
  },
  {
   "cell_type": "code",
   "execution_count": 7,
   "metadata": {},
   "outputs": [],
   "source": [
    "k_perp, k_par, ps = ps2d(lc.brightness_temp[:,:,800:850],\n",
    "                         lc.cell_size*np.array([*lc.brightness_temp.shape[:2], 50]))"
   ]
  },
  {
   "cell_type": "code",
   "execution_count": 3,
   "metadata": {},
   "outputs": [
    {
     "ename": "NameError",
     "evalue": "name 'plt' is not defined",
     "output_type": "error",
     "traceback": [
      "\u001b[0;31m---------------------------------------------------------------------------\u001b[0m",
      "\u001b[0;31mNameError\u001b[0m                                 Traceback (most recent call last)",
      "Cell \u001b[0;32mIn[3], line 1\u001b[0m\n\u001b[0;32m----> 1\u001b[0m \u001b[43mplt\u001b[49m\u001b[38;5;241m.\u001b[39mimshow(ps)\n\u001b[1;32m      2\u001b[0m kx \u001b[38;5;241m=\u001b[39m np\u001b[38;5;241m.\u001b[39mround(k_par)\n\u001b[1;32m      3\u001b[0m \u001b[38;5;66;03m#plt.xticks(np.linspace(0,14,14), k_par)\u001b[39;00m\n\u001b[1;32m      4\u001b[0m \u001b[38;5;66;03m#plt.yticks(np.linspace(0,14,14), k_perp)\u001b[39;00m\n",
      "\u001b[0;31mNameError\u001b[0m: name 'plt' is not defined"
     ]
    }
   ],
   "source": [
    "plt.imshow(ps)\n",
    "kx = np.round(k_par)\n",
    "#plt.xticks(np.linspace(0,14,14), k_par)\n",
    "#plt.yticks(np.linspace(0,14,14), k_perp)"
   ]
  },
  {
   "cell_type": "code",
   "execution_count": 9,
   "metadata": {},
   "outputs": [
    {
     "data": {
      "text/plain": [
       "array([0.03141593, 0.07853982, 0.12566371, 0.1727876 , 0.23561945,\n",
       "       0.28274334, 0.32986723, 0.39269908, 0.43982297, 0.48694686,\n",
       "       0.54977871, 0.5969026 , 0.64402649, 0.70685835, 0.75398224])"
      ]
     },
     "execution_count": 9,
     "metadata": {},
     "output_type": "execute_result"
    }
   ],
   "source": [
    "k_par"
   ]
  },
  {
   "cell_type": "code",
   "execution_count": 16,
   "metadata": {},
   "outputs": [
    {
     "name": "stdout",
     "output_type": "stream",
     "text": [
      "(110, 110, 1967)\n",
      "5.500000006120298 35.03091305129813 (1967,)\n"
     ]
    }
   ],
   "source": [
    "print(lc.brightness_temp.shape)\n",
    "lcr = lc.lightcone_redshifts\n",
    "print(lcr.min(), lcr.max(), lcr.shape)"
   ]
  },
  {
   "cell_type": "markdown",
   "metadata": {},
   "source": []
  },
  {
   "cell_type": "code",
   "execution_count": 13,
   "metadata": {},
   "outputs": [
    {
     "data": {
      "text/plain": [
       "(1,)"
      ]
     },
     "execution_count": 13,
     "metadata": {},
     "output_type": "execute_result"
    }
   ],
   "source": [
    "lc.brightness_temp = lc.brightness_temp[:,:,:1000]"
   ]
  },
  {
   "cell_type": "code",
   "execution_count": null,
   "metadata": {},
   "outputs": [],
   "source": []
  }
 ],
 "metadata": {
  "kernelspec": {
   "display_name": "Python 3",
   "language": "python",
   "name": "python3"
  },
  "language_info": {
   "codemirror_mode": {
    "name": "ipython",
    "version": 3
   },
   "file_extension": ".py",
   "mimetype": "text/x-python",
   "name": "python",
   "nbconvert_exporter": "python",
   "pygments_lexer": "ipython3",
   "version": "3.11.0rc1"
  }
 },
 "nbformat": 4,
 "nbformat_minor": 2
}
