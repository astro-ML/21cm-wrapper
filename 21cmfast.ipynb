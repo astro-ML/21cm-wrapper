{
 "cells": [
  {
   "cell_type": "code",
   "execution_count": null,
   "metadata": {},
   "outputs": [],
   "source": [
    "# import the wrapper\n",
    "from p21cmfastwrapper import *"
   ]
  },
  {
   "cell_type": "code",
   "execution_count": null,
   "metadata": {},
   "outputs": [],
   "source": [
    "# The wrapper uses a parameter file to initialize the simulation for better overview\n",
    "# One can initialize the class by\n",
    "sim = Simulation()"
   ]
  },
  {
   "cell_type": "code",
   "execution_count": null,
   "metadata": {},
   "outputs": [],
   "source": [
    "# To just run a single box using the parameters one can just \n",
    "sim.run_box()"
   ]
  },
  {
   "cell_type": "code",
   "execution_count": null,
   "metadata": {},
   "outputs": [],
   "source": [
    "# To simulate a lightcone, one can do\n",
    "sim.run_lightcone()\n",
    "# Now we clear the cached simulations for the next step\n",
    "sim.clear()"
   ]
  },
  {
   "cell_type": "code",
   "execution_count": null,
   "metadata": {},
   "outputs": [],
   "source": [
    "# All parameters can be changed on the fly without re-initializing the class, e.g.\n",
    "params = {\"redshift\": 8, \"max_redshift\": 12, \"random_seed\": 1, \"astro_params\": {\"HII_EFF_FACTOR\": 29}} \n",
    "# Note: It is important to preserve the dict structure defined in parameter.yaml for in-situ changes in parameters\n",
    "# This dict needs to be passed as an argument to the wrapper\n",
    "sim.run_lightcone(kargs=params)"
   ]
  },
  {
   "cell_type": "code",
   "execution_count": null,
   "metadata": {},
   "outputs": [],
   "source": [
    "# One can also do multiple runs with different parameters, e.g. we want two realizations of two HII_EFF_FACTORs\n",
    "params = {\"random_seed\": [1,2], \"astro_params\": {\"HII_EFF_FACTOR\": [29,31]}}\n",
    "sim.run_fixed_multi_lightcone(rargs=params)\n",
    "# The result will be four simulations stored in the class"
   ]
  },
  {
   "cell_type": "code",
   "execution_count": null,
   "metadata": {},
   "outputs": [],
   "source": [
    "# Now we visualize the result\n",
    "# Visualize the power spectrum computed in 6 bins\n",
    "sim.plot_ps(bins=6,compare=True)\n",
    "# Plot the global quantities of the simulations\n",
    "sim.plot_global_properties(observational_axis=True)\n",
    "# Plot various fields of the simulation\n",
    "sim.plot_imshow(fields=[\"brightness_temp\",\"xH_box\", \"density\"])"
   ]
  },
  {
   "cell_type": "code",
   "execution_count": null,
   "metadata": {},
   "outputs": [],
   "source": [
    "# If a function is unclear, one can always look at the docstring for help\n",
    "sim.plot_ps?"
   ]
  }
 ],
 "metadata": {
  "kernelspec": {
   "display_name": "Python 3",
   "language": "python",
   "name": "python3"
  },
  "language_info": {
   "codemirror_mode": {
    "name": "ipython",
    "version": 3
   },
   "file_extension": ".py",
   "mimetype": "text/x-python",
   "name": "python",
   "nbconvert_exporter": "python",
   "pygments_lexer": "ipython3",
   "version": "3.12.2"
  }
 },
 "nbformat": 4,
 "nbformat_minor": 2
}
