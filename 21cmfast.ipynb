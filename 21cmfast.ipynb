{
 "cells": [
  {
   "cell_type": "code",
   "execution_count": 6,
   "metadata": {},
   "outputs": [],
   "source": [
    "# import the wrapper\n",
    "from p21cmfastwrapper import *"
   ]
  },
  {
   "cell_type": "markdown",
   "metadata": {},
   "source": []
  },
  {
   "cell_type": "code",
   "execution_count": 7,
   "metadata": {},
   "outputs": [
    {
     "name": "stdout",
     "output_type": "stream",
     "text": [
      "use astro_params default config: True\n",
      "use cosmo_params default config: True\n",
      "use user_params default config: False\n",
      "use flag_options default config: False\n",
      "use global_params default config: True\n",
      "./data/ run_* 1 ['run_0']\n",
      "Using 21cmFAST version 0.1.dev1836+gf7c01bf\n"
     ]
    },
    {
     "data": {
      "text/plain": [
       "'save_inclass (bool): If set true, results are saved as a list in the class, very useful for testing and quick analysis. If False, results are saved as a file\\nsave_ondisk (bool): If set True, save results on disk\\nwrite_cache (bool): If true, use the included 21cmfast cache, useful when doing repeated simulations with same seed and init conditions.\\ndata_path (str): path for saving the results of save_ondisk is True\\nfile_name (str): filename for the runs, final name will be: filename + run_id + .h5\\noverride (bool): If True, old runs will be overridden\\ndebug (bool): Print many things along the way if something is screwed again.'"
      ]
     },
     "execution_count": 7,
     "metadata": {},
     "output_type": "execute_result"
    }
   ],
   "source": [
    "# The wrapper uses a parameter file to initialize the simulation for better overview\n",
    "# One can initialize the class by\n",
    "sim = Simulation(save_ondisk=False, write_cache=False, save_inclass=True, debug=True)\n",
    "# important arguments for initializing the Simulation class are:\n",
    "'''save_inclass (bool): If set true, results are saved as a list in the class, very useful for testing and quick analysis. If False, results are saved as a file\n",
    "save_ondisk (bool): If set True, save results on disk\n",
    "write_cache (bool): If true, use the included 21cmfast cache, useful when doing repeated simulations with same seed and init conditions.\n",
    "data_path (str): path for saving the results of save_ondisk is True\n",
    "file_name (str): filename for the runs, final name will be: filename + run_id + .h5\n",
    "override (bool): If True, old runs will be overridden\n",
    "debug (bool): Print many things along the way if something is screwed again.'''"
   ]
  },
  {
   "cell_type": "code",
   "execution_count": 3,
   "metadata": {},
   "outputs": [],
   "source": [
    "# To just run a single box using the parameters one can just \n",
    "sim.run_box()"
   ]
  },
  {
   "cell_type": "code",
   "execution_count": 8,
   "metadata": {},
   "outputs": [],
   "source": [
    "# To simulate a lightcone, one can do\n",
    "sim.run_cone()\n",
    "# Now we clear the cached simulations for the next step\n",
    "#sim.clear()"
   ]
  },
  {
   "cell_type": "code",
   "execution_count": null,
   "metadata": {},
   "outputs": [],
   "source": [
    "# All parameters can be changed on the fly without re-initializing the class, e.g.\n",
    "params = {\"redshift\": 8, \"max_redshift\": 12, \"random_seed\": 1, \"astro_params\": {\"HII_EFF_FACTOR\": 29}} \n",
    "# Note: It is important to preserve the dict structure defined in parameter.yaml for in-situ changes in parameters\n",
    "# This dict needs to be passed as an argument to the wrapper\n",
    "sim.run_lightcone(kargs=params)"
   ]
  },
  {
   "cell_type": "code",
   "execution_count": null,
   "metadata": {},
   "outputs": [],
   "source": [
    "# One can also do multiple runs with different parameters, e.g. we want two realizations of two HII_EFF_FACTORs\n",
    "params = {\"random_seed\": [1,2], \"astro_params\": {\"HII_EFF_FACTOR\": [29,31]}}\n",
    "sim.run_fixed_multi_lightcone(rargs=params)\n",
    "# The result will be four simulations stored in the class"
   ]
  },
  {
   "cell_type": "code",
   "execution_count": null,
   "metadata": {},
   "outputs": [],
   "source": [
    "# One can sample from a distribution (callable function) given by samplef and a dict of ranges\n",
    "# This is useful to create a database\n",
    "# For cluster deployment, change the threads argument to the number of available cpu cores\n",
    "samplef = (lambda a,b: np.random.uniform(a,b))\n",
    "args = {\"astro_params\": \n",
    "            {\"NU_X_THRESH\": [400,700], \n",
    "            \"HII_EFF_FACTOR\": [20,40],\n",
    "            \"L_X\": [30,50],\n",
    "            \"ION_Tvir_MIN\": [4,5]},\n",
    "        \"cosmo_params\":\n",
    "            {\"OMm\": [0.1,0.3]},\n",
    "        \"global_params\": \n",
    "            {\"M_WDM\": [1,3]}}\n",
    "sim.run_samplef(nruns=12, args=args, samplef=samplef, threads = 6)"
   ]
  },
  {
   "cell_type": "code",
   "execution_count": null,
   "metadata": {},
   "outputs": [],
   "source": [
    "# Now we visualize the result\n",
    "# Visualize the power spectrum computed in 6 bins\n",
    "sim.plot_ps(bins=6,compare=True)\n",
    "# Plot the global quantities of the simulations\n",
    "sim.plot_global_properties(observational_axis=True)\n",
    "# Plot various fields of the simulation\n",
    "sim.plot_imshow(fields=[\"brightness_temp\",\"xH_box\", \"density\"])"
   ]
  },
  {
   "cell_type": "code",
   "execution_count": null,
   "metadata": {},
   "outputs": [],
   "source": [
    "# If a function is unclear, one can always look at the docstring for help\n",
    "sim.plot_ps?"
   ]
  },
  {
   "cell_type": "code",
   "execution_count": null,
   "metadata": {},
   "outputs": [],
   "source": [
    "np.array([1,23,np.NaN]).max()"
   ]
  },
  {
   "cell_type": "code",
   "execution_count": null,
   "metadata": {},
   "outputs": [],
   "source": [
    "import numpy as np"
   ]
  },
  {
   "cell_type": "code",
   "execution_count": null,
   "metadata": {},
   "outputs": [],
   "source": [
    "test = True\n",
    "while test:\n",
    "    print(\"hi :3\")\n",
    "    test = False"
   ]
  },
  {
   "cell_type": "code",
   "execution_count": 12,
   "metadata": {},
   "outputs": [
    {
     "name": "stderr",
     "output_type": "stream",
     "text": [
      "/home/potato/Documents/projects/master/p21cm-venv/lib/python3.11/site-packages/py21cmfast/_utils.py:412: UserWarning: The following parameters to AstroParams are not supported: ['USE_TS_FLUCT']\n",
      "  warnings.warn(\n",
      "/home/potato/Documents/projects/master/p21cm-venv/lib/python3.11/site-packages/py21cmfast/inputs.py:515: UserWarning: The USE_INTERPOLATION_TABLES setting has changed in v3.1.2 to be default True. You can likely ignore this warning, but if you relied onhaving USE_INTERPOLATION_TABLES=False by *default*, please set it explicitly. To silence this warning, set it explicitly to True. Thiswarning will be removed in v4.\n",
      "  warnings.warn(\n"
     ]
    }
   ],
   "source": [
    "import py21cmfast as p21c\n",
    "user_params = p21c.UserParams(\n",
    "    HII_DIM=70, BOX_LEN=200, N_THREADS = 6\n",
    ")\n",
    "astro_params = p21c.AstroParams(\n",
    "    INHOMO_RECO = True, USE_TS_FLUCT = True\n",
    ")\n",
    "lightcone = p21c.run_lightcone(\n",
    "    global_quantities=[\"brightness_temp\"],\n",
    "    direc='_cache',\n",
    "    write=False,\n",
    "    user_params=user_params,\n",
    "    astro_params=astro_params,\n",
    "    redshift=5.5,\n",
    "    max_redshift=20\n",
    ")"
   ]
  },
  {
   "cell_type": "code",
   "execution_count": 21,
   "metadata": {},
   "outputs": [
    {
     "data": {
      "text/plain": [
       "(40, 40, 400)"
      ]
     },
     "execution_count": 21,
     "metadata": {},
     "output_type": "execute_result"
    }
   ],
   "source": [
    "sim.data[0].brightness_temp.shape"
   ]
  },
  {
   "cell_type": "code",
   "execution_count": 20,
   "metadata": {},
   "outputs": [],
   "source": [
    "sim.data[0].brightness_temp = sim.data[0].brightness_temp[:,:,:400]"
   ]
  },
  {
   "cell_type": "markdown",
   "metadata": {},
   "source": []
  },
  {
   "cell_type": "code",
   "execution_count": 25,
   "metadata": {},
   "outputs": [
    {
     "data": {
      "text/plain": [
       "'/home/potato/Documents/projects/master/21cm-wrapper/test.h5'"
      ]
     },
     "execution_count": 25,
     "metadata": {},
     "output_type": "execute_result"
    }
   ],
   "source": [
    "sim.data[0].save(\"./test.h5\")"
   ]
  },
  {
   "cell_type": "code",
   "execution_count": null,
   "metadata": {},
   "outputs": [],
   "source": [
    "testlc = p21c.outputs.LightCone.read('/home/potato/Documents/projects/master/21cm-wrapper/test.h5')"
   ]
  }
 ],
 "metadata": {
  "kernelspec": {
   "display_name": "Python 3",
   "language": "python",
   "name": "python3"
  },
  "language_info": {
   "codemirror_mode": {
    "name": "ipython",
    "version": 3
   },
   "file_extension": ".py",
   "mimetype": "text/x-python",
   "name": "python",
   "nbconvert_exporter": "python",
   "pygments_lexer": "ipython3",
   "version": "3.11.0rc1"
  }
 },
 "nbformat": 4,
 "nbformat_minor": 2
}
