{
 "cells": [
  {
   "cell_type": "code",
   "execution_count": 1,
   "metadata": {},
   "outputs": [
    {
     "name": "stderr",
     "output_type": "stream",
     "text": [
      "[potato:85466] shmem: mmap: an error occurred while determining whether or not /tmp/ompi.potato.1000/jf.0/3962765312/shared_mem_cuda_pool.potato could be created.\n",
      "[potato:85466] create_and_attach: unable to create shared memory BTL coordinating structure :: size 134217728 \n"
     ]
    }
   ],
   "source": [
    "# import the wrapper\n",
    "from mcmc import *\n",
    "from power_spectra_1D import *\n",
    "from power_spectra_2D import *"
   ]
  },
  {
   "cell_type": "code",
   "execution_count": null,
   "metadata": {},
   "outputs": [],
   "source": [
    "sim = Simulation(save_ondisk=False, save_inclass=True, write_cache=True, clean_cache=True)\n",
    "# }\n",
    "#{'ION_Tvir_MIN': 4.540949748007259, 'HII_EFF_FACTOR': 238.77818673489438, 'L_X': 39.63512786298546, 'NU_X_THRESH': 1156.8820204520493}\n",
    "#params={'astro_params': {'ION_Tvir_MIN': 4.798687324224536, 'HII_EFF_FACTOR': 153.93554078107047, 'L_X': 41.07914816577325, 'NU_X_THRESH': 122.31064697905447}}\n",
    "for mfp in [0]: #np.linspace(1,50, 5):\n",
    "    params = {'astro_params': {'ION_Tvir_MIN': 4.7, 'HII_EFF_FACTOR': 30, 'L_X': 40, 'NU_X_THRESH': 500}}\n",
    "    #{'astro_params': {'ION_Tvir_MIN': 4.7, 'HII_EFF_FACTOR': 30, 'L_X': 40, 'NU_X_THRESH': 500}}\n",
    "    sim.run_lightcone(kargs=params)\n",
    "\n",
    "'''\n",
    "\n",
    "# w/o write: \n",
    "# w write: \n",
    "# 11.12.2s\n",
    "\n",
    "user_params = p21c.UserParams(\n",
    "    HII_DIM=60, BOX_LEN=200\n",
    ")\n",
    "flag_options = p21c.FlagOptions(\n",
    "    INHOMO_RECO=True, USE_TS_FLUCT=True\n",
    ")\n",
    "\n",
    "astro_params = p21c.AstroParams(\n",
    "    **{'ION_Tvir_MIN': 4.7, 'HII_EFF_FACTOR': 30, 'L_X': 40, 'NU_X_THRESH': 500}\n",
    ")\n",
    "\n",
    "lightcone = p21c.run_lightcone(\n",
    "    direc='_cache',\n",
    "    user_params=user_params,\n",
    "    flag_options=flag_options,\n",
    "    astro_params=astro_params,\n",
    "    redshift = 5.5\n",
    ")\n",
    "'''\n"
   ]
  },
  {
   "cell_type": "code",
   "execution_count": null,
   "metadata": {},
   "outputs": [],
   "source": [
    "#(array([ 9,  9,  9, 44, 44, 44]),\n",
    "#array([68, 68, 68, 14, 14, 14]),\n",
    "#array([ 62, 182, 302,  68, 188, 308]))\n",
    "\n",
    "'''\n",
    "(array([ 63,  63,  63, 104, 104]),\n",
    " array([61, 61, 61, 66, 66]),\n",
    " array([ 80, 200, 320, 105, 225]))\n",
    " '''\n",
    "\n",
    "def compute_ps(data, k_bins=31, z_bins=21):\n",
    "    zbins = np.linspace(0,data.lightcone_redshifts.shape[0]-1,z_bins).astype(int)\n",
    "    ps = np.empty((z_bins-1, 2, k_bins))\n",
    "    for bin in range(z_bins - 1):\n",
    "        physical_size = data.lightcone_distances[zbins[bin+1]] - data.lightcone_distances[zbins[bin]]\n",
    "        # get variance=False for now until nice usecase is found\n",
    "        ps[bin,:,:] = get_power(deltax= data.brightness_temp[:,:,zbins[bin]:zbins[bin+1]], \n",
    "        boxlength=(*data.lightcone_dimensions[:2], physical_size), bin_ave=True, \n",
    "        ignore_zero_mode=True, get_variance=False, bins=k_bins, vol_normalised_power=True)\n",
    "        ps[bin,0,:] *= ps[bin,1,:]**3/(2* np.pi**2)\n",
    "        print(f\"{bin=}: \", f\"{ps[bin,:,:]}\")\n",
    "    return ps\n",
    "compute_ps(sim.data[0])\n"
   ]
  },
  {
   "cell_type": "code",
   "execution_count": null,
   "metadata": {},
   "outputs": [],
   "source": [
    "from mcmc import *\n",
    "\n",
    "init_params_ranges = {\"astro_params\": {\"ION_Tvir_MIN\": [4,5.3], \"HII_EFF_FACTOR\": [10, 250], \n",
    "                    \"L_X\": [38,42], \"NU_X_THRESH\": [100, 1500]}}\n",
    "\n",
    "params={'astro_params': {'ION_Tvir_MIN': 4.7, 'HII_EFF_FACTOR': 30, 'L_X': 40, 'NU_X_THRESH': 500}}\n",
    "\n",
    "def log_prior(theta):\n",
    "        T_vir, H_eff, LX, nu_x = theta\n",
    "        if 5 < H_eff < 250 and 100 < nu_x < 1500 and 4 < T_vir < 5.3 and 30 < LX < 50:\n",
    "            return 0\n",
    "        return - np.inf\n",
    "    \n",
    "def log_likelihood(t,f):\n",
    "    return - np.sum((t - f)**2/(f+1))\n",
    "\n",
    "mcrun = mcmc(nwalker=8, z_bins = 21, k_bins=30, debug = True, log_likelihood=log_likelihood, prior=log_prior)\n",
    "mcrun.make_fiducial(load = False, fparams=params, plot=True)\n",
    "\n",
    "#mcrun.run_aies(init_params_ranges)"
   ]
  },
  {
   "cell_type": "code",
   "execution_count": null,
   "metadata": {},
   "outputs": [],
   "source": [
    "from p21cmfastwrapper import *\n",
    "\n",
    "sim = Simulation(save_ondisk=True, save_inclass=False, write_cache=True, clean_cache=True)\n",
    "\n",
    "args = {\"M_WDM\":[0.3,10.0],\n",
    "                \"astro_params\": {\"HII_EFF_FACTOR\":[10,250],\"L_X\":[38,42],\"NU_X_THRESH\":[100,1500],\"ION_Tvir_MIN\":[4.0,5.3]},\n",
    "                \"cosmo_params\": {\"OMm\":[0.2,0.4]}}\n",
    "sim.run_samplef(nruns=50000, args=args=args, threads = 128)"
   ]
  },
  {
   "cell_type": "code",
   "execution_count": null,
   "metadata": {},
   "outputs": [],
   "source": [
    "def fill_dict(nested_dict, array, index=0):\n",
    "    \"\"\"\n",
    "    Fills the nested dictionary with elements from the array recursively.\n",
    "\n",
    "    Parameters:\n",
    "    nested_dict (dict): The nested dictionary to be filled.\n",
    "    array (list): The list of elements to fill into the nested dictionary.\n",
    "    index (int): The current index in the array.\n",
    "\n",
    "    Returns:\n",
    "    int: The next index to be used in the array.\n",
    "    \"\"\"\n",
    "    for key in nested_dict:\n",
    "        if isinstance(nested_dict[key], dict):\n",
    "            index = fill_dict(nested_dict[key], array, index)\n",
    "        else:\n",
    "            if index < len(array):\n",
    "                nested_dict[key] = array[index]\n",
    "                index += 1\n",
    "            else:\n",
    "                break\n",
    "    return nested_dict"
   ]
  },
  {
   "cell_type": "code",
   "execution_count": null,
   "metadata": {},
   "outputs": [],
   "source": [
    "log_prior([  4.01547017, 245.68181515,  41.78008556, 142.73262024]) + log_likelihood(ps, mcrun.fid_ps) "
   ]
  },
  {
   "cell_type": "code",
   "execution_count": null,
   "metadata": {},
   "outputs": [],
   "source": []
  },
  {
   "cell_type": "code",
   "execution_count": null,
   "metadata": {},
   "outputs": [],
   "source": [
    "from mcmc import *\n",
    "\n",
    "init_params_ranges = {\"astro_params\": {\"ION_Tvir_MIN\": [4,5.3], \"HII_EFF_FACTOR\": [10, 250], \n",
    "                    \"L_X\": [38,42], \"NU_X_THRESH\": [100, 1500]}}\n",
    "\n",
    "params={'astro_params': {'ION_Tvir_MIN': 4.7, 'HII_EFF_FACTOR': 30, 'L_X': 40, 'NU_X_THRESH': 500}}\n",
    "\n",
    "def log_prior(theta):\n",
    "        T_vir, H_eff, LX, nu_x = theta\n",
    "        if 5 < H_eff < 250 and 100 < nu_x < 1500 and 4 < T_vir < 5.3 and 30 < LX < 50:\n",
    "            return 0\n",
    "        return - np.inf\n",
    "    \n",
    "def log_likelihood(t,f):\n",
    "    return - np.sum((t - f)**2/(np.abs(f)+1))\n",
    "\n",
    "mcrun = mcmc(nwalker=8, z_bins = 11, k_bins=30, debug = True, log_likelihood=log_likelihood, prior=log_prior)\n",
    "mcrun.make_fiducial(load = True, fparams=params)\n",
    "\n",
    "#mcrun.run_aies(init_params_ranges)"
   ]
  },
  {
   "cell_type": "code",
   "execution_count": null,
   "metadata": {},
   "outputs": [],
   "source": [
    "from mcmc import *\n",
    "init_params_ranges = {\"astro_params\": {\"ION_Tvir_MIN\": [4,5.3], \"HII_EFF_FACTOR\": [5, 100], \n",
    "                    \"L_X\": [30,50], \"NU_X_THRESH\": [100, 1500]}}\n",
    "\n",
    "# input: init cube for parameter\n",
    "def prior_sampling(theta):\n",
    "        T_vir, H_eff, LX, nu_x = theta\n",
    "        T_vir = 4 + 1.3*T_vir\n",
    "        H_eff = 5 + 95*H_eff\n",
    "        LX = 30 + 20*LX\n",
    "        nu_x = 100 + 1400*nu_x\n",
    "        return np.array([T_vir, H_eff, LX, nu_x])\n",
    "    \n",
    "# returns samples from the posterior\n",
    "    \n",
    "def log_likelihood(t,f):\n",
    "    return - np.sum((t - f)**2/f)\n",
    "\n",
    "\n",
    "mcrun = mcmc(z_bins = 11, debug = True, log_likelihood=log_likelihood, prior=prior_sampling)\n",
    "mcrun.make_fiducial(load = True)\n",
    "\n",
    "mcrun.run_ns(init_params_ranges)\n"
   ]
  },
  {
   "cell_type": "code",
   "execution_count": null,
   "metadata": {},
   "outputs": [],
   "source": [
    "from mcmc import *\n",
    "mcrun = mcmc(nwalker=8, z_bins = 11, debug = True, log_likelihood=log_likelihood, prior=log_prior)\n",
    "mcrun.make_fiducial(load = False)"
   ]
  },
  {
   "cell_type": "code",
   "execution_count": null,
   "metadata": {},
   "outputs": [],
   "source": [
    "import py21cmfast\n",
    "py21cmfast.inputs.CosmoParams._defaults_"
   ]
  },
  {
   "cell_type": "code",
   "execution_count": null,
   "metadata": {},
   "outputs": [],
   "source": [
    "args = {\"astro_params\": \n",
    "        {\"NU_X_THRESH\": [400,700], \n",
    "        \"HII_EFF_FACTOR\": [10,100],\n",
    "        \"L_X\": [1,2],\n",
    "        \"ION_Tvir_MIN\": [4,5]},\n",
    "    \"cosmo_params\":\n",
    "        {\"OMm\": [0,1]},\n",
    "    \"global_params\": \n",
    "        {\"M_WDM\": [1,2]}}"
   ]
  },
  {
   "cell_type": "code",
   "execution_count": null,
   "metadata": {},
   "outputs": [],
   "source": [
    "py21cmfast.inputs.global_params.M_WDM"
   ]
  },
  {
   "cell_type": "code",
   "execution_count": null,
   "metadata": {},
   "outputs": [],
   "source": [
    "test = {\"main\": {\"blub\": 1, \"blubber\": 2}, \"sek\": {\"schwubble\": {\"swap\": 4}}}"
   ]
  },
  {
   "cell_type": "code",
   "execution_count": null,
   "metadata": {},
   "outputs": [],
   "source": [
    "def extract_keys(nested_dict):\n",
    "    keys = []\n",
    "    for key in nested_dict:\n",
    "        keys.append(key)\n",
    "        if isinstance(nested_dict[key], dict):\n",
    "            keys.extend(extract_keys(nested_dict[key]))\n",
    "    return keys"
   ]
  },
  {
   "cell_type": "code",
   "execution_count": null,
   "metadata": {},
   "outputs": [],
   "source": [
    "extract_keys(test)"
   ]
  },
  {
   "cell_type": "code",
   "execution_count": null,
   "metadata": {},
   "outputs": [],
   "source": []
  }
 ],
 "metadata": {
  "kernelspec": {
   "display_name": "Python 3",
   "language": "python",
   "name": "python3"
  },
  "language_info": {
   "codemirror_mode": {
    "name": "ipython",
    "version": 3
   },
   "file_extension": ".py",
   "mimetype": "text/x-python",
   "name": "python",
   "nbconvert_exporter": "python",
   "pygments_lexer": "ipython3",
   "version": "3.12.2"
  }
 },
 "nbformat": 4,
 "nbformat_minor": 2
}
