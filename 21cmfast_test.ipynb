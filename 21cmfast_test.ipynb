{
 "cells": [
  {
   "cell_type": "code",
   "execution_count": null,
   "metadata": {},
   "outputs": [],
   "source": [
    "# import the wrapper\n",
    "from p21cmfastwrapper import *\n",
    "from power_spectra_1D import *\n",
    "from power_spectra_2D import *"
   ]
  },
  {
   "cell_type": "code",
   "execution_count": null,
   "metadata": {},
   "outputs": [],
   "source": [
    "sim = Simulation(save_ondisk=False, save_inclass=True, write_cache=True)\n",
    "params = {\"max_redshift\": 15, \"random_seed\": 1, \"astro_params\": {\"HII_EFF_FACTOR\": 29}} \n",
    "#sim.run_lightcone(kargs=params)"
   ]
  },
  {
   "cell_type": "code",
   "execution_count": null,
   "metadata": {},
   "outputs": [],
   "source": [
    "params = {\"astro_params\": {\"HII_EFF_FACTOR\": [2,8], \"NU_X_THRESH\": [300,800], \"ION_Tvir_MIN\": [4,5]}}\n",
    "sim.generate_range(params, (lambda a,b: np.random.uniform(a,b)))"
   ]
  },
  {
   "cell_type": "code",
   "execution_count": null,
   "metadata": {},
   "outputs": [],
   "source": [
    "data = sim.data[0]\n",
    "\n",
    "k_bins = np.array([0.18137994, 0.2720699 , 0.36275987,\n",
    "0.45344984, 0.54413981, 0.63482978, 0.72551975, 0.81620971,\n",
    "0.90689968, 0.99758965, 1.08827962, 1.17896959, 1.26965955,\n",
    "1.36034952, 1.45103949, 1.54172946, 1.63241943, 1.7231094 ,\n",
    "1.81379936, 1.90448933, 1.9951793 , 2.08586927, 2.17655924,\n",
    "2.26724921, 2.35793917, 2.44862914, 2.53931911, 2.63000908,\n",
    "2.72069905, 2.81138901, 2.90207898, 2.99276895, 3.08345892,\n",
    "3.17414889, 3.26483886, 3.35552882, 3.44621879])\n",
    "\n",
    "zbins = np.linspace(0,len(sim.data[0].lightcone_redshifts)-1,8).astype(int)\n",
    "\n",
    "# create an tensor to store the data (z_bin, (ps, k, var_ps))\n",
    "k_shape = len(k_bins)\n",
    "ps = np.empty((len(zbins)-1, 3, k_shape-1))\n",
    "\n",
    "for bin in range(len(zbins) - 1):\n",
    "    print(bin)\n",
    "    physical_size = data.lightcone_distances[zbins[bin+1]] - data.lightcone_distances[zbins[bin]]\n",
    "    ps[bin,:,:] = get_power(deltax= data.brightness_temp[:,:,zbins[bin]:zbins[bin+1]], \n",
    "                    boxlength=(*data.lightcone_dimensions[:2], physical_size), bin_ave=True, \n",
    "                    ignore_zero_mode=True, get_variance=True, bins=k_bins, vol_normalised_power=True)\n",
    "    ps[bin,0,:] *= ps[bin,1,:]**3/(2* np.pi**2)"
   ]
  },
  {
   "cell_type": "code",
   "execution_count": null,
   "metadata": {},
   "outputs": [],
   "source": [
    "test = {\"main\": {\"sek\":0, \"sek2\":0}}\n",
    "print(test)"
   ]
  },
  {
   "cell_type": "code",
   "execution_count": null,
   "metadata": {},
   "outputs": [],
   "source": [
    "fill_dict(test, [1,2])"
   ]
  },
  {
   "cell_type": "code",
   "execution_count": null,
   "metadata": {},
   "outputs": [],
   "source": [
    "def fill_dict(nested_dict, array, index=0):\n",
    "    \"\"\"\n",
    "    Fills the nested dictionary with elements from the array recursively.\n",
    "\n",
    "    Parameters:\n",
    "    nested_dict (dict): The nested dictionary to be filled.\n",
    "    array (list): The list of elements to fill into the nested dictionary.\n",
    "    index (int): The current index in the array.\n",
    "\n",
    "    Returns:\n",
    "    int: The next index to be used in the array.\n",
    "    \"\"\"\n",
    "    for key in nested_dict:\n",
    "        if isinstance(nested_dict[key], dict):\n",
    "            index = fill_dict(nested_dict[key], array, index)\n",
    "        else:\n",
    "            if index < len(array):\n",
    "                nested_dict[key] = array[index]\n",
    "                index += 1\n",
    "            else:\n",
    "                break\n",
    "    return nested_dict"
   ]
  },
  {
   "cell_type": "code",
   "execution_count": null,
   "metadata": {},
   "outputs": [],
   "source": [
    "import matplotlib.image as mpimg\n",
    "import numpy as np\n",
    "import scipy.stats as stats\n",
    "import matplotlib.pyplot as pl\n",
    "\n",
    "image = sim.data[0].brightness_temp[:,:,-1]\n",
    "\n",
    "npix = image.shape[0]\n",
    "\n",
    "fourier_image = np.fft.fftn(image)\n",
    "fourier_amplitudes = np.abs(fourier_image)**2\n",
    "\n",
    "kfreq = np.fft.fftfreq(npix) * npix\n",
    "kfreq2D = np.meshgrid(kfreq, kfreq)\n",
    "knrm = np.sqrt(kfreq2D[0]**2 + kfreq2D[1]**2)\n",
    "\n",
    "knrm = knrm.flatten()\n",
    "fourier_amplitudes = fourier_amplitudes.flatten()\n",
    "\n",
    "kbins = np.arange(0.5, npix//2+1, 1.)\n",
    "kvals = 0.5 * (kbins[1:] + kbins[:-1])\n",
    "Abins, _, _ = stats.binned_statistic(knrm, fourier_amplitudes,\n",
    "                                     statistic = \"mean\",\n",
    "                                     bins = kbins)\n",
    "Abins *= np.pi * (kbins[1:]**2 - kbins[:-1]**2)\n",
    "\n",
    "pl.loglog(kvals, Abins)\n",
    "pl.xlabel(\"$k$\")\n",
    "pl.ylabel(\"$P(k)$\")\n",
    "pl.tight_layout()\n",
    "pl.savefig(\"cloud_power_spectrum.png\", dpi = 300, bbox_inches = \"tight\")"
   ]
  },
  {
   "cell_type": "code",
   "execution_count": null,
   "metadata": {},
   "outputs": [],
   "source": []
  },
  {
   "cell_type": "code",
   "execution_count": 3,
   "metadata": {},
   "outputs": [
    {
     "name": "stdout",
     "output_type": "stream",
     "text": [
      "use astro_params default config: True\n",
      "use cosmo_params default config: True\n",
      "use user_params default config: False\n",
      "use flag_options default config: False\n",
      "use global_params default config: True\n",
      "Using 21cmFAST version 3.3.1\n"
     ]
    },
    {
     "name": "stderr",
     "output_type": "stream",
     "text": [
      "/home/tom/miniconda3/lib/python3.12/site-packages/py21cmfast/_utils.py:400: UserWarning: The following parameters to FlagOptions are not supported: ['USE_VELS_AUX']\n",
      "  warnings.warn(\n"
     ]
    },
    {
     "name": "stdout",
     "output_type": "stream",
     "text": [
      "[[   4.38828343   20.72040763   44.34810243  314.06696938]\n",
      " [   4.39486127   84.53812601   34.41690317 1273.25146646]\n",
      " [   4.09079477   29.766908     38.64665543  474.70146236]\n",
      " [   4.94411614   24.58446714   49.25839262  377.84908259]\n",
      " [   4.98367478   67.15492021   40.65710558  224.04599141]\n",
      " [   5.18998718   18.42108385   33.80680821  597.44454547]\n",
      " [   4.59609238   45.26134953   32.63791794  713.86143423]\n",
      " [   4.99362293   64.23088496   43.95400808  886.82117963]]\n"
     ]
    }
   ],
   "source": [
    "from mcmc import *\n",
    "\n",
    "init_params_ranges = {\"astro_params\": {\"ION_Tvir_MIN\": [4,5.3], \"HII_EFF_FACTOR\": [5, 100], \n",
    "                    \"L_X\": [30,50], \"NU_X_THRESH\": [100, 1500]}}\n",
    "\n",
    "def log_prior(theta):\n",
    "        T_vir, H_eff, LX, nu_x = theta\n",
    "        if 5 < H_eff < 100 and 100 < nu_x < 1500 and 4 < T_vir < 5.3 and 30 < LX < 50:\n",
    "            return 0\n",
    "        return - np.inf\n",
    "    \n",
    "def log_likelihood(t,f):\n",
    "    return - np.sum((t - f)**2/f)\n",
    "\n",
    "mcrun = mcmc(nwalker=8, z_bins = 11, debug = True, log_likelihood=log_likelihood, prior=log_prior)\n",
    "mcrun.make_fiducial(load = False)\n",
    "\n",
    "mcrun.run_aies(init_params_ranges)"
   ]
  },
  {
   "cell_type": "code",
   "execution_count": 1,
   "metadata": {},
   "outputs": [
    {
     "name": "stderr",
     "output_type": "stream",
     "text": [
      "/home/tom/miniconda3/lib/python3.12/site-packages/py21cmfast/_cfg.py:57: UserWarning: Your configuration file is out of date. Updating...\n",
      "  warnings.warn(\n",
      "/home/tom/miniconda3/lib/python3.12/site-packages/py21cmfast/_cfg.py:41: UserWarning: Your configuration file is out of date. Updating...\n",
      "  warnings.warn(\"Your configuration file is out of date. Updating...\")\n",
      "[potato:37808] shmem: mmap: an error occurred while determining whether or not /tmp/ompi.potato.1000/jf.0/1918173184/shared_mem_cuda_pool.potato could be created.\n",
      "[potato:37808] create_and_attach: unable to create shared memory BTL coordinating structure :: size 134217728 \n",
      "/home/tom/miniconda3/lib/python3.12/site-packages/py21cmfast/_utils.py:400: UserWarning: The following parameters to FlagOptions are not supported: ['USE_VELS_AUX']\n",
      "  warnings.warn(\n"
     ]
    },
    {
     "name": "stdout",
     "output_type": "stream",
     "text": [
      "use astro_params default config: True\n",
      "use cosmo_params default config: True\n",
      "use user_params default config: False\n",
      "use flag_options default config: False\n",
      "use global_params default config: True\n",
      "Using 21cmFAST version 3.3.1\n",
      " MultiNest Warning: no resume file found, starting from scratch\n",
      " *****************************************************\n",
      " MultiNest v3.10\n",
      " Copyright Farhan Feroz & Mike Hobson\n",
      " Release Jul 2015\n",
      "\n",
      " no. of live points =  400\n",
      " dimensionality =    4\n",
      " *****************************************************\n",
      " Starting MultiNest\n",
      " generating live points\n",
      "lprob=-414.54623843494124\n",
      "lprob=-129.71738307052564\n"
     ]
    },
    {
     "name": "stderr",
     "output_type": "stream",
     "text": [
      "Exception ignored on calling ctypes callback function: <function run.<locals>.loglike at 0x73a7382aeca0>\n",
      "Traceback (most recent call last):\n",
      "  File \"/home/tom/miniconda3/lib/python3.12/site-packages/pymultinest/run.py\", line 223, in loglike\n",
      "    return LogLikelihood(cube, ndim, nparams, lnew)\n",
      "           ^^^^^^^^^^^^^^^^^^^^^^^^^^^^^^^^^^^^^^^^\n",
      "  File \"/home/tom/miniconda3/lib/python3.12/site-packages/pymultinest/solve.py\", line 56, in SafeLoglikelihood\n",
      "    l = float(LogLikelihood(a))\n",
      "              ^^^^^^^^^^^^^^^^\n",
      "  File \"/home/tom/Documents/projects/master/21cm-wrapper/mcmc.py\", line 56, in p_wrapper\n",
      "    test_cone = self.run_lightcone(kargs=run_params, commit=True)\n",
      "                ^^^^^^^^^^^^^^^^^^^^^^^^^^^^^^^^^^^^^^^^^^^^^^^^^\n",
      "  File \"/home/tom/Documents/projects/master/21cm-wrapper/p21cmfastwrapper.py\", line 144, in run_lightcone\n",
      "    run = p21c.run_lightcone(**self.input_params)\n",
      "          ^^^^^^^^^^^^^^^^^^^^^^^^^^^^^^^^^^^^^^^\n",
      "  File \"/home/tom/miniconda3/lib/python3.12/site-packages/py21cmfast/wrapper.py\", line 2712, in run_lightcone\n",
      "    p = perturb_field(\n",
      "        ^^^^^^^^^^^^^^\n",
      "  File \"/home/tom/miniconda3/lib/python3.12/site-packages/py21cmfast/wrapper.py\", line 1094, in perturb_field\n",
      "    return fields.compute(ics=init_boxes, hooks=hooks)\n",
      "           ^^^^^^^^^^^^^^^^^^^^^^^^^^^^^^^^^^^^^^^^^^^\n",
      "  File \"/home/tom/miniconda3/lib/python3.12/site-packages/py21cmfast/outputs.py\", line 252, in compute\n",
      "    return self._compute(\n",
      "           ^^^^^^^^^^^^^^\n",
      "  File \"/home/tom/miniconda3/lib/python3.12/site-packages/py21cmfast/_utils.py\", line 1454, in _compute\n",
      "    exitcode = self._c_compute_function(*inputs, self())\n",
      "               ^^^^^^^^^^^^^^^^^^^^^^^^^^^^^^^^^^^^^^^^^\n",
      "KeyboardInterrupt: \n"
     ]
    }
   ],
   "source": [
    "from mcmc import *\n",
    "init_params_ranges = {\"astro_params\": {\"ION_Tvir_MIN\": [4,5.3], \"HII_EFF_FACTOR\": [5, 100], \n",
    "                    \"L_X\": [30,50], \"NU_X_THRESH\": [100, 1500]}}\n",
    "\n",
    "# input: init cube for parameter\n",
    "def prior_sampling(theta):\n",
    "        T_vir, H_eff, LX, nu_x = theta\n",
    "        T_vir = 4 + 1.3*T_vir\n",
    "        H_eff = 5 + 95*H_eff\n",
    "        LX = 30 + 20*LX\n",
    "        nu_x = 100 + 1400*nu_x\n",
    "        return np.array([T_vir, H_eff, LX, nu_x])\n",
    "    \n",
    "# returns samples from the posterior\n",
    "    \n",
    "def log_likelihood(t,f):\n",
    "    return - np.sum((t - f)**2/f)\n",
    "\n",
    "\n",
    "mcrun = mcmc(z_bins = 11, debug = True, log_likelihood=log_likelihood, prior=prior_sampling)\n",
    "mcrun.make_fiducial(load = True)\n",
    "\n",
    "mcrun.run_ns(init_params_ranges)\n"
   ]
  },
  {
   "cell_type": "code",
   "execution_count": 2,
   "metadata": {},
   "outputs": [
    {
     "name": "stderr",
     "output_type": "stream",
     "text": [
      "/home/tom/miniconda3/lib/python3.12/site-packages/py21cmfast/_cfg.py:57: UserWarning: Your configuration file is out of date. Updating...\n",
      "  warnings.warn(\n",
      "/home/tom/miniconda3/lib/python3.12/site-packages/py21cmfast/_cfg.py:41: UserWarning: Your configuration file is out of date. Updating...\n",
      "  warnings.warn(\"Your configuration file is out of date. Updating...\")\n",
      "[potato:37957] shmem: mmap: an error occurred while determining whether or not /tmp/ompi.potato.1000/jf.0/997588992/shared_mem_cuda_pool.potato could be created.\n",
      "[potato:37957] create_and_attach: unable to create shared memory BTL coordinating structure :: size 134217728 \n"
     ]
    },
    {
     "ename": "NameError",
     "evalue": "name 'log_likelihood' is not defined",
     "output_type": "error",
     "traceback": [
      "\u001b[0;31m---------------------------------------------------------------------------\u001b[0m",
      "\u001b[0;31mNameError\u001b[0m                                 Traceback (most recent call last)",
      "Cell \u001b[0;32mIn[2], line 2\u001b[0m\n\u001b[1;32m      1\u001b[0m \u001b[38;5;28;01mfrom\u001b[39;00m \u001b[38;5;21;01mmcmc\u001b[39;00m \u001b[38;5;28;01mimport\u001b[39;00m \u001b[38;5;241m*\u001b[39m\n\u001b[0;32m----> 2\u001b[0m mcrun \u001b[38;5;241m=\u001b[39m mcmc(nwalker\u001b[38;5;241m=\u001b[39m\u001b[38;5;241m8\u001b[39m, z_bins \u001b[38;5;241m=\u001b[39m \u001b[38;5;241m11\u001b[39m, debug \u001b[38;5;241m=\u001b[39m \u001b[38;5;28;01mTrue\u001b[39;00m, log_likelihood\u001b[38;5;241m=\u001b[39m\u001b[43mlog_likelihood\u001b[49m, prior\u001b[38;5;241m=\u001b[39mlog_prior)\n\u001b[1;32m      3\u001b[0m mcrun\u001b[38;5;241m.\u001b[39mmake_fiducial(load \u001b[38;5;241m=\u001b[39m \u001b[38;5;28;01mFalse\u001b[39;00m)\n",
      "\u001b[0;31mNameError\u001b[0m: name 'log_likelihood' is not defined"
     ]
    }
   ],
   "source": [
    "from mcmc import *\n",
    "mcrun = mcmc(nwalker=8, z_bins = 11, debug = True, log_likelihood=log_likelihood, prior=log_prior)\n",
    "mcrun.make_fiducial(load = False)"
   ]
  },
  {
   "cell_type": "code",
   "execution_count": null,
   "metadata": {},
   "outputs": [],
   "source": [
    "import py21cmfast\n",
    "py21cmfast.inputs.CosmoParams._defaults_"
   ]
  },
  {
   "cell_type": "code",
   "execution_count": null,
   "metadata": {},
   "outputs": [],
   "source": [
    "args = {\"astro_params\": \n",
    "        {\"NU_X_THRESH\": [400,700], \n",
    "        \"HII_EFF_FACTOR\": [10,100],\n",
    "        \"L_X\": [1,2],\n",
    "        \"ION_Tvir_MIN\": [4,5]},\n",
    "    \"cosmo_params\":\n",
    "        {\"OMm\": [0,1]},\n",
    "    \"global_params\": \n",
    "        {\"M_WDM\": [1,2]}}"
   ]
  },
  {
   "cell_type": "code",
   "execution_count": null,
   "metadata": {},
   "outputs": [],
   "source": [
    "py21cmfast.inputs.global_params.M_WDM"
   ]
  },
  {
   "cell_type": "code",
   "execution_count": null,
   "metadata": {},
   "outputs": [],
   "source": [
    "test = {\"main\": {\"blub\": 1, \"blubber\": 2}, \"sek\": {\"schwubble\": {\"swap\": 4}}}"
   ]
  },
  {
   "cell_type": "code",
   "execution_count": null,
   "metadata": {},
   "outputs": [],
   "source": [
    "def extract_keys(nested_dict):\n",
    "    keys = []\n",
    "    for key in nested_dict:\n",
    "        keys.append(key)\n",
    "        if isinstance(nested_dict[key], dict):\n",
    "            keys.extend(extract_keys(nested_dict[key]))\n",
    "    return keys"
   ]
  },
  {
   "cell_type": "code",
   "execution_count": null,
   "metadata": {},
   "outputs": [],
   "source": [
    "extract_keys(test)"
   ]
  },
  {
   "cell_type": "code",
   "execution_count": null,
   "metadata": {},
   "outputs": [],
   "source": []
  }
 ],
 "metadata": {
  "kernelspec": {
   "display_name": "Python 3",
   "language": "python",
   "name": "python3"
  },
  "language_info": {
   "codemirror_mode": {
    "name": "ipython",
    "version": 3
   },
   "file_extension": ".py",
   "mimetype": "text/x-python",
   "name": "python",
   "nbconvert_exporter": "python",
   "pygments_lexer": "ipython3",
   "version": "3.12.2"
  }
 },
 "nbformat": 4,
 "nbformat_minor": 2
}
