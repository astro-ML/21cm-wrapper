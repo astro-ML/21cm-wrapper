{
 "cells": [
  {
   "cell_type": "code",
   "execution_count": 2,
   "metadata": {},
   "outputs": [],
   "source": [
    "# import the wrapper\n",
    "from Leaf import *"
   ]
  },
  {
   "cell_type": "code",
   "execution_count": 3,
   "metadata": {},
   "outputs": [
    {
     "name": "stdout",
     "output_type": "stream",
     "text": [
      "\u001b[0;31mInit signature:\u001b[0m\n",
      "\u001b[0mLeaf\u001b[0m\u001b[0;34m(\u001b[0m\u001b[0;34m\u001b[0m\n",
      "\u001b[0;34m\u001b[0m    \u001b[0mdata_path\u001b[0m\u001b[0;34m:\u001b[0m \u001b[0mstr\u001b[0m \u001b[0;34m=\u001b[0m \u001b[0;34m'./data/'\u001b[0m\u001b[0;34m,\u001b[0m\u001b[0;34m\u001b[0m\n",
      "\u001b[0;34m\u001b[0m    \u001b[0mdata_prefix\u001b[0m\u001b[0;34m:\u001b[0m \u001b[0mstr\u001b[0m \u001b[0;34m=\u001b[0m \u001b[0;34m'simrun_'\u001b[0m\u001b[0;34m,\u001b[0m\u001b[0;34m\u001b[0m\n",
      "\u001b[0;34m\u001b[0m    \u001b[0mparameter_file\u001b[0m\u001b[0;34m:\u001b[0m \u001b[0mstr\u001b[0m \u001b[0;34m=\u001b[0m \u001b[0;32mNone\u001b[0m\u001b[0;34m,\u001b[0m\u001b[0;34m\u001b[0m\n",
      "\u001b[0;34m\u001b[0m    \u001b[0mcache_path\u001b[0m\u001b[0;34m:\u001b[0m \u001b[0mstr\u001b[0m \u001b[0;34m=\u001b[0m \u001b[0;32mNone\u001b[0m\u001b[0;34m,\u001b[0m\u001b[0;34m\u001b[0m\n",
      "\u001b[0;34m\u001b[0m    \u001b[0mdebug\u001b[0m\u001b[0;34m:\u001b[0m \u001b[0mbool\u001b[0m \u001b[0;34m=\u001b[0m \u001b[0;32mFalse\u001b[0m\u001b[0;34m,\u001b[0m\u001b[0;34m\u001b[0m\n",
      "\u001b[0;34m\u001b[0m    \u001b[0mredshift\u001b[0m\u001b[0;34m:\u001b[0m \u001b[0mfloat\u001b[0m \u001b[0;34m=\u001b[0m \u001b[0;32mNone\u001b[0m\u001b[0;34m,\u001b[0m\u001b[0;34m\u001b[0m\n",
      "\u001b[0;34m\u001b[0m    \u001b[0mastro_params\u001b[0m\u001b[0;34m:\u001b[0m \u001b[0mdict\u001b[0m \u001b[0;34m=\u001b[0m \u001b[0;34m{\u001b[0m\u001b[0;34m}\u001b[0m\u001b[0;34m,\u001b[0m\u001b[0;34m\u001b[0m\n",
      "\u001b[0;34m\u001b[0m    \u001b[0mcosmo_params\u001b[0m\u001b[0;34m:\u001b[0m \u001b[0mdict\u001b[0m \u001b[0;34m=\u001b[0m \u001b[0;34m{\u001b[0m\u001b[0;34m}\u001b[0m\u001b[0;34m,\u001b[0m\u001b[0;34m\u001b[0m\n",
      "\u001b[0;34m\u001b[0m    \u001b[0muser_params\u001b[0m\u001b[0;34m:\u001b[0m \u001b[0mdict\u001b[0m \u001b[0;34m=\u001b[0m \u001b[0;34m{\u001b[0m\u001b[0;34m}\u001b[0m\u001b[0;34m,\u001b[0m\u001b[0;34m\u001b[0m\n",
      "\u001b[0;34m\u001b[0m    \u001b[0mflag_options\u001b[0m\u001b[0;34m=\u001b[0m\u001b[0;34m{\u001b[0m\u001b[0;34m}\u001b[0m\u001b[0;34m,\u001b[0m\u001b[0;34m\u001b[0m\n",
      "\u001b[0;34m\u001b[0m    \u001b[0mglobal_params\u001b[0m\u001b[0;34m:\u001b[0m \u001b[0mdict\u001b[0m \u001b[0;34m=\u001b[0m \u001b[0;34m{\u001b[0m\u001b[0;34m}\u001b[0m\u001b[0;34m,\u001b[0m\u001b[0;34m\u001b[0m\n",
      "\u001b[0;34m\u001b[0m\u001b[0;34m)\u001b[0m \u001b[0;34m->\u001b[0m \u001b[0;32mNone\u001b[0m\u001b[0;34m\u001b[0m\u001b[0;34m\u001b[0m\u001b[0m\n",
      "\u001b[0;31mDocstring:\u001b[0m      <no docstring>\n",
      "\u001b[0;31mInit docstring:\u001b[0m\n",
      "Initializes the Leaf class with specified parameters.\n",
      "\n",
      "Args:\n",
      "    data_path (str): The path where output will be saved. Default is \"./data/\"\n",
      "\n",
      "    data_prefix (str): The prefix for the output files saved in the specified data_path. Default is \"simrun_\".\n",
      "    \n",
      "    parameter_file (str): The file from which to load parameters for all runs. This allows for more control over specific parameters.\n",
      "                          If None, standard parameters are used. Default is None.\n",
      "    \n",
      "    cache_path (str): Path for the 21cmFAST cache. If None, don't write cache. This can be faster if fast IO is available, but requires significant memory for large runs.\n",
      "                        Recommended to use only if you plan to rerun simulations with the same parameters. Default is False.\n",
      "    \n",
      "    debug (bool): If True, enables verbose output to help identify errors. Default is False.\n",
      "\u001b[0;31mFile:\u001b[0m           ~/Documents/projects/master/21cm-wrapper/Leaf.py\n",
      "\u001b[0;31mType:\u001b[0m           type\n",
      "\u001b[0;31mSubclasses:\u001b[0m     "
     ]
    }
   ],
   "source": [
    "# The wrapper can be either initialized by a parameter file (legacy) \n",
    "# or given the parameters directly as dict (recommended).\n",
    "# Parameters not given are automatically set to default\n",
    "\n",
    "# An initialization of the wrapper may look like this (remove anything not needed)\n",
    "# The given values repres\n",
    "\n",
    "# set a path where the data will be saved\n",
    "data_path = \"./data/\" # <- don't forget the \"/\" at the end\n",
    "# set a prefix for the saved files\n",
    "data_prefix = \"run_\" # results in files run_{run_id}.h5\n",
    "# set a path for the cache, if None, write no cache (recommended for sampling)\n",
    "cache_path = None\n",
    "\n",
    "# see what is required for the Leaf class\n",
    "Leaf?"
   ]
  },
  {
   "cell_type": "code",
   "execution_count": null,
   "metadata": {},
   "outputs": [],
   "source": [
    "# Initialize the simulator (Leaf class) either by passing a path as the argument parameter_path\n",
    "# or initialize it via dicts as shown below\n",
    "\n",
    "# define hyperparameter of the simulation\n",
    "user_parameter = {\n",
    "    \"HII_DIM\": 140,\n",
    "    \"BOX_LEN\": 200,\n",
    "    \"N_THREADS\": 1,\n",
    "    \"USE_INTERPOLATION_TABLES\": True,\n",
    "    \"PERTURB_ON_HIGH_RES\": True\n",
    "}\n",
    "flag_options = {\n",
    "    \"INHOMO_RECO\": True,\n",
    "    \"USE_TS_FLUCT\": True\n",
    "}\n",
    "\n",
    "astro_params = {\n",
    "    \"INHOMO_RECO\": True\n",
    "}\n",
    "\n",
    "redshift = 5.5\n",
    "\n",
    "# define saving behavoir \n",
    "data_path = \"./data/\"\n",
    "data_prefix = \"run_\" # results in files like run_0, run_1, ...\n",
    "\n",
    "# initialize the simulation class\n",
    "sim = Leaf(user_params=user_parameter, flag_options=flag_options, astro_params=astro_params, debug=True, redshift=redshift\n",
    "           data_path=data_path=, data_prefix=data_prefix)"
   ]
  },
  {
   "cell_type": "code",
   "execution_count": 3,
   "metadata": {},
   "outputs": [],
   "source": [
    "# To just run a single box using the parameters above one can just \n",
    "# the bool argument save determines if the result will be returned or saved on disk\n",
    "box = sim.run_box(save=False)\n",
    "\n",
    "# one could also pass different arguments for the specific run\n",
    "# e.g. one is interested in how the box may look like if\n",
    "astro_params = {\n",
    "    \"L_X\": 41\n",
    "}\n",
    "\n",
    "box_different_L_X = sim.run_box(save=False, astro_params=astro_params)"
   ]
  },
  {
   "cell_type": "code",
   "execution_count": 8,
   "metadata": {},
   "outputs": [],
   "source": [
    "# To simulate a lightcone, one can do\n",
    "lc = sim.run_lightcone(save=False)\n",
    "# The parametes for the run_lightcone method are the same as for the run_box\n",
    "# except:\n",
    "# There is also a sanity check (5 sigma from the Planack observation) activatable by filter_peculiar\n",
    "# And a sanity check to get rid of NaNs (which may occur) via NN interpolation by activating sanity_check"
   ]
  },
  {
   "cell_type": "code",
   "execution_count": null,
   "metadata": {},
   "outputs": [],
   "source": [
    "# Again, parameters can be changed on-the-fly\n",
    "lc_different_L_X = sim.run_lightcone(save=False, astro_params=astro_params)"
   ]
  },
  {
   "cell_type": "code",
   "execution_count": null,
   "metadata": {},
   "outputs": [],
   "source": [
    "# One can also run the simulator on a prior distributior\n",
    "# This is useful to create a database\n",
    "# For cluster deployment, change the threads argument to the number of available cpu cores\n",
    "\n",
    "# we first need to define parameter ranges for the parameters of interest\n",
    "# e.g. we are interested in the HII_EFF_FACTOR and OMm\n",
    "\n",
    "astro_params_range = {\n",
    "    \"HII_EFF_FACTOR\": [20,40]\n",
    "}\n",
    "\n",
    "cosmo_params_range = {\n",
    "    \"OMm\": [0.1,0.3]\n",
    "}\n",
    "\n",
    "# we also need to define a samplefunction. The arrays of the ranges are the parameters passed to this samplefunction\n",
    "# Currently there are 3 functions implemented: uniform, gauss, gumble\n",
    "# We can define the samplefunction to be uniform by e.g. (or define any custom function)\n",
    "samplef = Leaf.uniform\n",
    "\n",
    "# don't forget to add when running with more than 1 thread (multiprocessing may cause problems in jupyter notebooks)\n",
    "#if __name__ == '__main__':\n",
    "sim.run_lcsampling(save=False, threads=1, quantity=4, astro_params_range=astro_params_range,\n",
    "                   cosmo_params_range=cosmo_params_range)"
   ]
  },
  {
   "cell_type": "code",
   "execution_count": null,
   "metadata": {},
   "outputs": [],
   "source": [
    "# A full pipeline may look like this\n",
    "\n",
    "from Leaf import *\n",
    "cosmo_params = {\n",
    "\"OMm\": 0.2\n",
    "}\n",
    "astro_params = {\n",
    "\"L_X\": 40,\n",
    "\"NU_X_THRESH\": 100,\n",
    "\"ION_Tvir_MIN\": 4.5,\n",
    "\"HII_EFF_FACTOR\": 29,\n",
    "\"INHOMO_RECO\": True\n",
    "}\n",
    "global_params = {\n",
    "    \"M_WDM\": 4\n",
    "}\n",
    "user_params = {\n",
    "\"HII_DIM\": 40,\n",
    "\"BOX_LEN\": 160,\n",
    "\"N_THREADS\": 2,\n",
    "\"USE_INTERPOLATION_TABLES\": True,\n",
    "\"PERTURB_ON_HIGH_RES\": True\n",
    "}\n",
    "\n",
    "flag_options = {\n",
    "\"INHOMO_RECO\": True,\n",
    "\"USE_TS_FLUCT\": True\n",
    "}\n",
    "\n",
    "sim = Leaf(debug=True)\n",
    "\n",
    "\n",
    "\n",
    "testsim = sim.run_lightcone(save=False, redshift=5., filter_peculiar=False,\n",
    "                            cosmo_params=cosmo_params, astro_params=astro_params,\n",
    "                            global_params=global_params, user_params=user_params,\n",
    "                            flag_options=flag_options)\n",
    "\n",
    "\n",
    "if __name__ == '__main__':\n",
    "    sim.run_lcsampling(samplef=sim.uniform, redshift=5.5, save=True, threads=2, quantity=4,\n",
    "                    astro_params_range=astro_params_range)"
   ]
  },
  {
   "cell_type": "markdown",
   "metadata": {},
   "source": [
    "Don't forget to check the docs or type e.g. sim.run_lcsampling? if you feel lost."
   ]
  }
 ],
 "metadata": {
  "kernelspec": {
   "display_name": "Python 3",
   "language": "python",
   "name": "python3"
  },
  "language_info": {
   "codemirror_mode": {
    "name": "ipython",
    "version": 3
   },
   "file_extension": ".py",
   "mimetype": "text/x-python",
   "name": "python",
   "nbconvert_exporter": "python",
   "pygments_lexer": "ipython3",
   "version": "3.12.4"
  }
 },
 "nbformat": 4,
 "nbformat_minor": 2
}
